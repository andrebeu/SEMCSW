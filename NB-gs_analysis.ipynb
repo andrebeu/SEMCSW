{
 "cells": [
  {
   "cell_type": "code",
   "execution_count": 1,
   "metadata": {},
   "outputs": [],
   "source": [
    "import os\n",
    "import numpy as np\n",
    "import torch as tr\n",
    "\n",
    "from glob import glob as glob\n",
    "import pandas as pd\n",
    "\n",
    "\n",
    "from CSWSEM import *\n",
    "from matplotlib import pyplot as plt"
   ]
  },
  {
   "cell_type": "code",
   "execution_count": 2,
   "metadata": {},
   "outputs": [],
   "source": [
    "gs_name = 'absem'\n",
    "debug = True"
   ]
  },
  {
   "cell_type": "code",
   "execution_count": 3,
   "metadata": {},
   "outputs": [],
   "source": [
    "hdf = pd.read_csv('gsdata/humandf.csv')\n",
    "humanB = hdf.loc[:,'blocked mean']\n",
    "humanI = hdf.loc[:,'interleaved mean']"
   ]
  },
  {
   "cell_type": "code",
   "execution_count": 4,
   "metadata": {},
   "outputs": [],
   "source": [
    "# from utils_analysis import make_gsdf\n",
    "# make_gsdf(gsname,save=False)\n",
    "gsdf = pd.read_csv('gsdata/%s.csv'%gs_name)"
   ]
  },
  {
   "cell_type": "code",
   "execution_count": 5,
   "metadata": {
    "scrolled": true
   },
   "outputs": [],
   "source": [
    "def build_dataD(gsdf,metric='loss',verb=True):\n",
    "  \"\"\" D[model][param_str][cond] = [seed,time]\n",
    "  \"\"\"\n",
    "  paramL = ['learn_rate','alfa','lmda']\n",
    "  dataD = {}\n",
    "  for nosplit,m_df in gsdf.groupby(['nosplit']):  \n",
    "    if nosplit: model='LSTM'\n",
    "    else: model='SEM'\n",
    "    for p,p_df in m_df.groupby(paramL):\n",
    "      param_str = \"-\".join([str(p_i) for p_i in p])\n",
    "      dataD_key = \"%s-%s\"%(model,param_str)\n",
    "      dataD[dataD_key] = {}\n",
    "      for c,c_df in p_df.groupby('condition'):\n",
    "        cond=c\n",
    "        if verb: print(model,param_str,cond)\n",
    "        sgroup = c_df.groupby('seed')\n",
    "        seed_arr = -np.ones([len(sgroup),200])\n",
    "        for s_idx,(s,s_df) in enumerate(sgroup):\n",
    "          seed_arr[s_idx] = s_df.loc[:,metric]\n",
    "        dataD[dataD_key][cond] = seed_arr\n",
    "\n",
    "  return dataD"
   ]
  },
  {
   "cell_type": "code",
   "execution_count": 6,
   "metadata": {
    "scrolled": true
   },
   "outputs": [
    {
     "name": "stdout",
     "output_type": "stream",
     "text": [
      "num model conditions 41\n"
     ]
    },
    {
     "data": {
      "text/plain": [
       "dict_keys(['SEM-0.005-0.1-0.1', 'SEM-0.005-0.1-1.0', 'SEM-0.005-0.1-10.0', 'SEM-0.005-1.0-0.1', 'SEM-0.005-1.0-1.0', 'SEM-0.005-1.0-10.0', 'SEM-0.005-10.0-0.1', 'SEM-0.005-10.0-1.0', 'SEM-0.005-10.0-10.0', 'SEM-0.01-0.1-0.1', 'SEM-0.01-0.1-1.0', 'SEM-0.01-0.1-10.0', 'SEM-0.01-1.0-0.1', 'SEM-0.01-1.0-1.0', 'SEM-0.01-1.0-10.0', 'SEM-0.01-10.0-0.1', 'SEM-0.01-10.0-1.0', 'SEM-0.01-10.0-10.0', 'SEM-0.05-0.1-0.1', 'SEM-0.05-0.1-1.0', 'SEM-0.05-0.1-10.0', 'SEM-0.05-1.0-0.1', 'SEM-0.05-1.0-1.0', 'SEM-0.05-1.0-10.0', 'SEM-0.05-10.0-0.1', 'SEM-0.05-10.0-1.0', 'SEM-0.05-10.0-10.0', 'SEM-0.1-0.1-0.1', 'SEM-0.1-0.1-1.0', 'SEM-0.1-0.1-10.0', 'SEM-0.1-1.0-0.1', 'SEM-0.1-1.0-1.0', 'SEM-0.1-1.0-10.0', 'SEM-0.1-10.0-0.1', 'SEM-0.1-10.0-1.0', 'SEM-0.1-10.0-10.0', 'LSTM-0.005-0.0-0.0', 'LSTM-0.005-99.0-99.0', 'LSTM-0.01-99.0-99.0', 'LSTM-0.05-99.0-99.0', 'LSTM-0.1-99.0-99.0'])"
      ]
     },
     "execution_count": 6,
     "metadata": {},
     "output_type": "execute_result"
    }
   ],
   "source": [
    "# D[model-param_str][cond] = [seed,time]\n",
    "lossD = build_dataD(gsdf,metric='loss',verb=False)\n",
    "print('num model conditions',len(lossD))\n",
    "lossD.keys()"
   ]
  },
  {
   "cell_type": "code",
   "execution_count": 7,
   "metadata": {},
   "outputs": [],
   "source": [
    "def plt_loss_(ax,loss_arr,tag=None):\n",
    "  Nseeds,_ = loss_arr.shape\n",
    "  acc_arr = 1-loss_arr\n",
    "  for acc_seed in acc_arr:\n",
    "    ax.plot(acc_seed,lw=.05,c='k')\n",
    "  M = acc_arr.mean(0)\n",
    "  S = acc_arr.std(0)/np.sqrt(Nseeds)\n",
    "  ax.fill_between(range(200),M-S,M+S,alpha=.5,color='b')\n",
    "  ax.plot(M,lw=3,c='b')\n",
    "  ax.set_ylim(0.2,1)\n",
    "  return None\n",
    "\n",
    "def plt_loss(cond_dict,mse_dict,title):\n",
    "  f,ax = plt.subplots(2,1,figsize=(8,4),sharex=True)\n",
    "  for idx,(cond,arr) in enumerate(cond_dict.items()):\n",
    "    plt_loss_(ax[idx],arr)\n",
    "    ax[idx].plot(hdf.loc[:,\"%s mean\"%cond],color='red',lw=3)\n",
    "    ax[idx].set_title(\"%s mse%f\"%(title,mse_dict[cond]))\n",
    "  total_mse = np.sum([i for i in mse_dict.values()])\n",
    "  plt.savefig('figures/gs-%s/mse%.4f-acc-%s.png'%(gs_name,total_mse,title))\n",
    "  plt.close('all')"
   ]
  },
  {
   "cell_type": "code",
   "execution_count": 8,
   "metadata": {},
   "outputs": [],
   "source": [
    "\n",
    "def calc_mse(cond_dict):\n",
    "  D = {}\n",
    "  for cond,loss_arr in cond_dict.items():\n",
    "    acc_arr = 1-loss_arr\n",
    "    semM = acc_arr.mean(0)\n",
    "    humanM = hdf.loc[:,'%s mean'%cond]\n",
    "    D[cond] = np.mean((semM-humanM)**2)\n",
    "  return D\n",
    "\n"
   ]
  },
  {
   "cell_type": "markdown",
   "metadata": {},
   "source": [
    "- what should I call model+param_str? model_inst?"
   ]
  },
  {
   "cell_type": "code",
   "execution_count": 9,
   "metadata": {
    "scrolled": true
   },
   "outputs": [
    {
     "name": "stdout",
     "output_type": "stream",
     "text": [
      "SEM-0.005-0.1-0.1 {'blocked': 0.04194981667053622, 'interleaved': 0.020167913829712322}\n",
      "SEM-0.005-0.1-1.0 {'blocked': 0.0419498165709319, 'interleaved': 0.020167913934828963}\n",
      "SEM-0.005-0.1-10.0 {'blocked': 0.041949816681296076, 'interleaved': 0.020167914054492378}\n",
      "SEM-0.005-1.0-0.1 {'blocked': 0.04288687175828076, 'interleaved': 0.01935368293900291}\n",
      "SEM-0.005-1.0-1.0 {'blocked': 0.04288687157526585, 'interleaved': 0.019353682956438183}\n",
      "SEM-0.005-1.0-10.0 {'blocked': 0.04296016531907916, 'interleaved': 0.019353682853627548}\n",
      "SEM-0.005-10.0-0.1 {'blocked': 0.04579710595363744, 'interleaved': 0.018019643879956734}\n",
      "SEM-0.005-10.0-1.0 {'blocked': 0.04579710596622344, 'interleaved': 0.018019643941767537}\n",
      "SEM-0.005-10.0-10.0 {'blocked': 0.044664300127181464, 'interleaved': 0.017916765507246996}\n",
      "SEM-0.01-0.1-0.1 {'blocked': 0.013734347109991284, 'interleaved': 0.04342186657763194}\n",
      "SEM-0.01-0.1-1.0 {'blocked': 0.013734347109991284, 'interleaved': 0.04342186636997123}\n",
      "SEM-0.01-0.1-10.0 {'blocked': 0.01373670506954747, 'interleaved': 0.043421866325918025}\n",
      "SEM-0.01-1.0-0.1 {'blocked': 0.014403457429648188, 'interleaved': 0.043566785795786454}\n",
      "SEM-0.01-1.0-1.0 {'blocked': 0.01440345735157388, 'interleaved': 0.043405725130935255}\n",
      "SEM-0.01-1.0-10.0 {'blocked': 0.01437006200633191, 'interleaved': 0.04347291566627151}\n",
      "SEM-0.01-10.0-0.1 {'blocked': 0.016131850445829595, 'interleaved': 0.042456961763575815}\n",
      "SEM-0.01-10.0-1.0 {'blocked': 0.016131850526486743, 'interleaved': 0.042482828934382225}\n",
      "SEM-0.01-10.0-10.0 {'blocked': 0.01610362937862351, 'interleaved': 0.042485678349189725}\n",
      "SEM-0.05-0.1-0.1 {'blocked': 0.01069626660710155, 'interleaved': 0.05788712709998608}\n",
      "SEM-0.05-0.1-1.0 {'blocked': 0.010481515883416526, 'interleaved': 0.057887127238854176}\n",
      "SEM-0.05-0.1-10.0 {'blocked': 0.010481516697292659, 'interleaved': 0.057589006254973825}\n",
      "SEM-0.05-1.0-0.1 {'blocked': 0.011817096406865653, 'interleaved': 0.054056246521386984}\n",
      "SEM-0.05-1.0-1.0 {'blocked': 0.01181709938852729, 'interleaved': 0.05405624664551954}\n",
      "SEM-0.05-1.0-10.0 {'blocked': 0.011817094756825002, 'interleaved': 0.05405624624291118}\n",
      "SEM-0.05-10.0-0.1 {'blocked': 0.013439387123673076, 'interleaved': 0.05070572384000188}\n",
      "SEM-0.05-10.0-1.0 {'blocked': 0.013439386927779587, 'interleaved': 0.05070572412971965}\n",
      "SEM-0.05-10.0-10.0 {'blocked': 0.013439387035044804, 'interleaved': 0.05070572375811109}\n",
      "SEM-0.1-0.1-0.1 {'blocked': 0.23964656968433687, 'interleaved': 0.04017607810159065}\n",
      "SEM-0.1-0.1-1.0 {'blocked': 0.23964657082654703, 'interleaved': 0.04017607438116654}\n",
      "SEM-0.1-0.1-10.0 {'blocked': 0.23964657521490246, 'interleaved': 0.04017607717471182}\n",
      "SEM-0.1-1.0-0.1 {'blocked': 0.23988055966089725, 'interleaved': 0.04029838524779836}\n",
      "SEM-0.1-1.0-1.0 {'blocked': 0.2398805598426995, 'interleaved': 0.04029838278539908}\n",
      "SEM-0.1-1.0-10.0 {'blocked': 0.23988056011609038, 'interleaved': 0.04029838295915133}\n",
      "SEM-0.1-10.0-0.1 {'blocked': 0.24198587478621364, 'interleaved': 0.04079259089685757}\n",
      "SEM-0.1-10.0-1.0 {'blocked': 0.24198586883941178, 'interleaved': 0.04079259327775103}\n",
      "SEM-0.1-10.0-10.0 {'blocked': 0.2419858698033034, 'interleaved': 0.04079258920519447}\n",
      "LSTM-0.005-0.0-0.0 {'blocked': 0.025730454375624455}\n",
      "LSTM-0.005-99.0-99.0 {'blocked': 0.02911055996828947, 'interleaved': 0.02625905952117497}\n",
      "LSTM-0.01-99.0-99.0 {'blocked': 0.0182080697591662, 'interleaved': 0.037264991282832186}\n",
      "LSTM-0.05-99.0-99.0 {'blocked': 0.020535657247663854, 'interleaved': 0.045174770780402725}\n",
      "LSTM-0.1-99.0-99.0 {'blocked': 0.056739163347154224, 'interleaved': 0.0362099484879185}\n"
     ]
    }
   ],
   "source": [
    "\"\"\" cond_dict {\n",
    "    blocked: [seeds,time], \n",
    "    interleaved: [seeds,time],\n",
    "    } \n",
    "\"\"\"\n",
    "\n",
    "L = []\n",
    "for model_param,cond_dict in lossD.items():\n",
    "  mse = calc_mse(cond_dict)\n",
    "  title = model_param\n",
    "  mse = calc_mse(cond_dict)\n",
    "  print(model_param,mse)\n",
    "  L.append({'model':model_param,'mse':mse})\n",
    "  plt_loss(cond_dict,mse,title)\n",
    "\n"
   ]
  }
 ],
 "metadata": {
  "kernelspec": {
   "display_name": "Python 3",
   "language": "python",
   "name": "python3"
  },
  "language_info": {
   "codemirror_mode": {
    "name": "ipython",
    "version": 3
   },
   "file_extension": ".py",
   "mimetype": "text/x-python",
   "name": "python",
   "nbconvert_exporter": "python",
   "pygments_lexer": "ipython3",
   "version": "3.7.9"
  }
 },
 "nbformat": 4,
 "nbformat_minor": 4
}
