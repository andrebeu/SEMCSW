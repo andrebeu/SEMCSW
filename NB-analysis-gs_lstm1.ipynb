{
 "cells": [
  {
   "cell_type": "code",
   "execution_count": 1,
   "metadata": {},
   "outputs": [],
   "source": [
    "import sys\n",
    "\n",
    "import numpy as np\n",
    "import matplotlib.pyplot as plt\n",
    "import tensorflow as tf\n",
    "import seaborn as sns\n",
    "from tqdm import tqdm\n",
    "from sklearn import metrics\n",
    "import pandas as pd\n",
    "\n",
    "from sklearn.metrics import adjusted_rand_score\n",
    "from sklearn.preprocessing import normalize\n",
    "from sklearn.linear_model import LogisticRegression\n",
    "from scipy.special import logsumexp\n",
    "from scipy.stats import norm\n",
    "from glob import glob\n",
    "import pandas as pd\n",
    "from glob import glob as glob\n",
    "\n"
   ]
  },
  {
   "cell_type": "code",
   "execution_count": 2,
   "metadata": {},
   "outputs": [
    {
     "name": "stdout",
     "output_type": "stream",
     "text": [
      "TensorFlow Version: 2.3.1\n"
     ]
    }
   ],
   "source": [
    "from CSWSEM import generate_exp, seed_exp\n",
    "from vanilla_lstm import VanillaLSTM\n",
    "from sem.event_models import NonLinearEvent"
   ]
  },
  {
   "cell_type": "code",
   "execution_count": 5,
   "metadata": {},
   "outputs": [],
   "source": [
    "def parse_results_file(tresults_fpath):\n",
    "  D = {}\n",
    "  fsplit = tresults_fpath.split('/')[-1].split('_')\n",
    "  D['seed'] = int(fsplit[-1].split('.')[0])\n",
    "  D['nepochs'] = int(fsplit[-6])\n",
    "  D['lr'] = float(fsplit[-8])\n",
    "  return  D\n",
    "\n",
    "\n",
    "def read_gsdf(data_dir):\n",
    "  tresults_fL = glob(data_dir+\"/trial*\")\n",
    "  L = []\n",
    "  for fpath in tresults_fL:\n",
    "    paramD = parse_results_file(fpath)\n",
    "    seed_df = pd.read_csv(fpath)\n",
    "    for k,v in paramD.items():\n",
    "      seed_df[k] = v\n",
    "    L.append(seed_df)\n",
    "  gsdf = pd.concat(L)\n",
    "  return gsdf"
   ]
  },
  {
   "cell_type": "code",
   "execution_count": 6,
   "metadata": {},
   "outputs": [],
   "source": [
    "# gridsearch df\n",
    "data_dir = 'gsdata/lstm1/'\n",
    "gsdf = read_gsdf(data_dir)"
   ]
  },
  {
   "cell_type": "code",
   "execution_count": 7,
   "metadata": {},
   "outputs": [
    {
     "data": {
      "text/plain": [
       "array([False, False, False, False, False, False, False, False, False,\n",
       "       False, False, False, False, False, False, False, False, False,\n",
       "       False, False, False, False, False, False, False, False, False,\n",
       "       False, False, False, False, False, False, False, False, False,\n",
       "       False, False, False, False, False, False, False, False, False,\n",
       "       False, False, False, False, False, False, False, False, False,\n",
       "       False, False, False, False, False, False, False, False, False,\n",
       "       False, False, False, False, False, False, False, False, False,\n",
       "       False, False, False, False, False, False, False, False, False,\n",
       "       False, False, False, False, False, False, False, False, False,\n",
       "       False, False, False, False, False, False, False, False, False,\n",
       "       False, False, False, False, False, False, False, False, False,\n",
       "       False, False, False, False, False, False, False, False, False,\n",
       "       False, False, False, False, False, False, False, False, False,\n",
       "       False, False, False, False, False, False, False, False, False,\n",
       "       False, False, False, False, False, False, False, False, False,\n",
       "       False, False, False, False, False, False, False, False, False,\n",
       "       False, False, False, False, False, False, False, False, False,\n",
       "       False, False, False, False, False, False, False, False, False,\n",
       "       False, False, False, False, False, False, False, False, False,\n",
       "       False, False, False, False, False, False, False, False, False,\n",
       "       False, False, False, False, False, False, False, False, False,\n",
       "       False, False, False, False, False, False, False, False, False,\n",
       "       False, False, False])"
      ]
     },
     "execution_count": 7,
     "metadata": {},
     "output_type": "execute_result"
    }
   ],
   "source": [
    "meandf = gsdf.groupby(['nepochs','lr','t']).mean().accuracy\n",
    "# meandf.iloc[:210].values == meandf.iloc[210:2*210].values"
   ]
  },
  {
   "cell_type": "code",
   "execution_count": 8,
   "metadata": {},
   "outputs": [
    {
     "ename": "NameError",
     "evalue": "name 'acc_df' is not defined",
     "output_type": "error",
     "traceback": [
      "\u001b[0;31m---------------------------------------------------------------------------\u001b[0m",
      "\u001b[0;31mNameError\u001b[0m                                 Traceback (most recent call last)",
      "\u001b[0;32m<ipython-input-8-e87869c135c3>\u001b[0m in \u001b[0;36m<module>\u001b[0;34m\u001b[0m\n\u001b[0;32m----> 1\u001b[0;31m \u001b[0macc_df\u001b[0m\u001b[0;34m\u001b[0m\u001b[0;34m\u001b[0m\u001b[0m\n\u001b[0m",
      "\u001b[0;31mNameError\u001b[0m: name 'acc_df' is not defined"
     ]
    }
   ],
   "source": [
    "acc_df"
   ]
  },
  {
   "cell_type": "code",
   "execution_count": 10,
   "metadata": {
    "scrolled": true
   },
   "outputs": [
    {
     "name": "stdout",
     "output_type": "stream",
     "text": [
      "0.001 1 (210,)\n",
      "0.001 2 (210,)\n",
      "0.001 4 (210,)\n",
      "0.001 8 (210,)\n",
      "0.001 16 (210,)\n",
      "0.001 32 (210,)\n",
      "0.001 64 (210,)\n",
      "0.005 1 (210,)\n",
      "0.005 2 (210,)\n",
      "0.005 4 (210,)\n",
      "0.005 8 (210,)\n",
      "0.005 16 (210,)\n",
      "0.005 32 (210,)\n",
      "0.005 64 (210,)\n",
      "0.01 1 (210,)\n",
      "0.01 2 (210,)\n",
      "0.01 4 (210,)\n",
      "0.01 8 (210,)\n",
      "0.01 16 (210,)\n",
      "0.01 32 (210,)\n",
      "0.01 64 (210,)\n",
      "0.05 1 (210,)\n",
      "0.05 2 (210,)\n",
      "0.05 4 (210,)\n",
      "0.05 8 (210,)\n",
      "0.05 16 (210,)\n",
      "0.05 32 (210,)\n",
      "0.05 64 (210,)\n",
      "0.1 1 (210,)\n",
      "0.1 2 (210,)\n",
      "0.1 4 (210,)\n",
      "0.1 8 (210,)\n",
      "0.1 16 (210,)\n",
      "0.1 32 (210,)\n",
      "0.1 64 (210,)\n"
     ]
    }
   ],
   "source": [
    "acc_df = gsdf.groupby(['lr','nepochs','t']).mean().accuracy.unstack(-1)\n",
    "acc_df\n",
    "for (lr,nepchs),acc in acc_df.T.iteritems():\n",
    "  print(lr,nepchs,acc.shape)\n",
    "  plt.plot(acc)\n",
    "  plt.ylim(.5,1.1)\n",
    "  plt.savefig('figures/acc-%f_%i.png'%(lr,nepchs))\n",
    "  plt.close('all')\n"
   ]
  },
  {
   "cell_type": "code",
   "execution_count": 85,
   "metadata": {},
   "outputs": [
    {
     "data": {
      "text/plain": [
       "[<matplotlib.lines.Line2D at 0x1152daf10>]"
      ]
     },
     "execution_count": 85,
     "metadata": {},
     "output_type": "execute_result"
    },
    {
     "data": {
      "image/png": "[encoded data removed]",
      "text/plain": [
       "<Figure size 432x288 with 1 Axes>"
      ]
     },
     "metadata": {
      "needs_background": "light"
     },
     "output_type": "display_data"
    }
   ],
   "source": [
    "from matplotlib import pyplot as plt\n"
   ]
  },
  {
   "cell_type": "markdown",
   "metadata": {},
   "source": [
    "### load files"
   ]
  },
  {
   "cell_type": "code",
   "execution_count": null,
   "metadata": {},
   "outputs": [],
   "source": [
    "\n",
    "lr = \n",
    "n_epochs = \n",
    "seed = \n",
    "data_dir = 'gsdata/lstm1/'\n",
    "model_tag = \"LSTM_cond_single_lr_%.3f_nepchs_%i_alpha_%.3f-lambda_%.3f_seed_%i\"%(\n",
    "  lr,n_epochs,seed\n",
    ")\n",
    "print(model_tag)"
   ]
  },
  {
   "cell_type": "code",
   "execution_count": null,
   "metadata": {},
   "outputs": [],
   "source": [
    "save_dir = 'gsdata/lstm1/'\n",
    "model_tag = \"%s_cond_%s_lr_%.3f_nepchs_%i_alpha_%.3f-lambda_%.3f_seed_%i\"%(\n",
    "  model_type,condition,lr,n_epochs,log_alpha,log_lambda,seed\n",
    ")\n",
    "print(model_tag)"
   ]
  },
  {
   "cell_type": "code",
   "execution_count": null,
   "metadata": {},
   "outputs": [],
   "source": []
  },
  {
   "cell_type": "markdown",
   "metadata": {},
   "source": [
    "### gridsearch params "
   ]
  },
  {
   "cell_type": "code",
   "execution_count": 7,
   "metadata": {},
   "outputs": [],
   "source": [
    "# convert from JSON file format (dict) to pandas df\n",
    "results = pd.DataFrame(results)\n",
    "trialXtrial = pd.DataFrame(trialXtrial)"
   ]
  },
  {
   "cell_type": "code",
   "execution_count": 3,
   "metadata": {},
   "outputs": [],
   "source": [
    "# parameter search over lr, n_epochs, alpha, lambda\n",
    "model_type        = str('LSTM')\n",
    "lr                = float(0.01)\n",
    "n_epochs          = int(1)    \n",
    "log_alpha         = float(0.0)  # sCRP alpha is set in log scale\n",
    "log_lambda        = float(0.0)  # sCRP lambda is set in log scale"
   ]
  },
  {
   "cell_type": "code",
   "execution_count": 4,
   "metadata": {},
   "outputs": [],
   "source": [
    "seed = int(97)\n",
    "condition = 'single'\n",
    "# number of trials\n",
    "n_train = 200\n",
    "n_test = 10"
   ]
  },
  {
   "cell_type": "markdown",
   "metadata": {},
   "source": [
    "### SEM configuration"
   ]
  },
  {
   "cell_type": "code",
   "execution_count": 5,
   "metadata": {},
   "outputs": [],
   "source": [
    "optimizer_kwargs = dict(\n",
    "    lr=lr, beta_1=0.9, beta_2=0.999, epsilon=1e-5, amsgrad=False\n",
    ") \n",
    "\n",
    "f_opts=dict(\n",
    "  batch_size=25, \n",
    "  batch_update=False, \n",
    "  dropout=0.0,\n",
    "  l2_regularization=0.0, \n",
    "  n_epochs=n_epochs,\n",
    "  optimizer_kwargs=optimizer_kwargs\n",
    ")\n",
    "\n",
    "f_class = VanillaLSTM # event model class\n",
    "\n",
    "# final param dict\n",
    "sem_kwargs = dict(\n",
    "  lmda=np.exp(log_lambda), \n",
    "  alfa=np.exp(log_alpha), \n",
    "  f_opts=f_opts, \n",
    "  f_class=f_class\n",
    ")\n"
   ]
  },
  {
   "cell_type": "markdown",
   "metadata": {},
   "source": [
    "# Run model\n",
    "\n",
    "main fun call"
   ]
  },
  {
   "cell_type": "code",
   "execution_count": 6,
   "metadata": {
    "collapsed": true
   },
   "outputs": [
    {
     "name": "stdout",
     "output_type": "stream",
     "text": [
      "seed 97 condition single\n",
      "seed in exp 97\n"
     ]
    },
    {
     "name": "stderr",
     "output_type": "stream",
     "text": [
      "//anaconda3/envs/sem/lib/python3.7/site-packages/sklearn/linear_model/_logistic.py:764: ConvergenceWarning: lbfgs failed to converge (status=1):\n",
      "STOP: TOTAL NO. of ITERATIONS REACHED LIMIT.\n",
      "\n",
      "Increase the number of iterations (max_iter) or scale the data as shown in:\n",
      "    https://scikit-learn.org/stable/modules/preprocessing.html\n",
      "Please also refer to the documentation for alternative solver options:\n",
      "    https://scikit-learn.org/stable/modules/linear_model.html#logistic-regression\n",
      "  extra_warning_msg=_LOGISTIC_SOLVER_CONVERGENCE_MSG)\n"
     ]
    }
   ],
   "source": [
    "\"\"\" \n",
    "main fun call\n",
    "\"\"\"\n",
    "\n",
    "results, trialXtrial, _ = seed_exp( \n",
    "              sem_kwargs, model_type=model_type, \n",
    "              n_train=n_train, n_test=n_test,\n",
    "              condition=condition,seed=seed,\n",
    ")"
   ]
  },
  {
   "cell_type": "markdown",
   "metadata": {
    "colab_type": "text",
    "id": "OAOkKQ5O8j7f"
   },
   "source": [
    "# save\n"
   ]
  },
  {
   "cell_type": "code",
   "execution_count": 10,
   "metadata": {},
   "outputs": [
    {
     "name": "stdout",
     "output_type": "stream",
     "text": [
      "LSTM_cond_single_lr_0.010_nepchs_1_alpha_0.000-lambda_0.000_seed_97\n"
     ]
    }
   ],
   "source": [
    "results_fpath = save_dir + \"results_\" + model_tag + '.csv'\n",
    "trial_fpath = save_dir + \"trial_X_trial_\" + model_tag + '.csv'"
   ]
  },
  {
   "cell_type": "code",
   "execution_count": 11,
   "metadata": {},
   "outputs": [],
   "source": [
    "results.to_csv(results_fpath)\n",
    "trialXtrial.to_csv(trial_fpath)"
   ]
  }
 ],
 "metadata": {
  "colab": {
   "collapsed_sections": [
    "Fg0K8FUow9Dy",
    "J0shpNw-wRT2"
   ],
   "name": "AndreTask; 2/7/20.ipynb",
   "provenance": [],
   "toc_visible": true
  },
  "kernelspec": {
   "display_name": "Python 3",
   "language": "python",
   "name": "python3"
  },
  "language_info": {
   "codemirror_mode": {
    "name": "ipython",
    "version": 3
   },
   "file_extension": ".py",
   "mimetype": "text/x-python",
   "name": "python",
   "nbconvert_exporter": "python",
   "pygments_lexer": "ipython3",
   "version": "3.7.9"
  }
 },
 "nbformat": 4,
 "nbformat_minor": 1
}
