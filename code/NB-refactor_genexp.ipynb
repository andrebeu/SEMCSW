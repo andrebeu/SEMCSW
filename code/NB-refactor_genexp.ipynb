{
 "cells": [
  {
   "cell_type": "markdown",
   "metadata": {
    "colab_type": "text",
    "id": "NQ9KSajiwUpk"
   },
   "source": [
    "This script runs one param_set. Outputs results{}.csv and trialxtrial{}.csv"
   ]
  },
  {
   "cell_type": "code",
   "execution_count": 1,
   "metadata": {},
   "outputs": [
    {
     "name": "stdout",
     "output_type": "stream",
     "text": [
      "TensorFlow Version: 2.3.1\n"
     ]
    }
   ],
   "source": [
    "import sys\n",
    "\n",
    "import numpy as np\n",
    "import matplotlib.pyplot as plt\n",
    "import tensorflow as tf\n",
    "import seaborn as sns\n",
    "from tqdm import tqdm\n",
    "from sklearn import metrics\n",
    "import pandas as pd\n",
    "\n",
    "from sklearn.metrics import adjusted_rand_score\n",
    "from sklearn.preprocessing import normalize\n",
    "from sklearn.linear_model import LogisticRegression\n",
    "from scipy.special import logsumexp\n",
    "from scipy.stats import norm\n",
    "from glob import glob\n",
    "from CSWSEM import generate_exp, seed_exp\n",
    "from vanilla_lstm import VanillaLSTM\n",
    "from sem.event_models import NonLinearEvent\n",
    "import numpy as np\n",
    "import pandas as pd\n",
    "import json\n",
    "from tqdm import tqdm\n",
    "\n",
    "# used in the experimental design\n",
    "from sklearn.metrics import adjusted_rand_score\n",
    "from sklearn.linear_model import LogisticRegression\n",
    "from sklearn import preprocessing # used sparingly\n",
    "from scipy.special import logsumexp\n",
    "\n",
    "# SEM\n",
    "from sem import sem_run_with_boundaries, SEM\n",
    "from sem.hrr import plate_formula, encode, decode, embed_gaussian\n",
    "from sem.utils import fast_mvnorm_diagonal_logprob, get_prior_scale\n",
    "from no_split_sem import no_split_sem_run_with_boundaries, NoSplitSEM\n"
   ]
  },
  {
   "cell_type": "code",
   "execution_count": null,
   "metadata": {},
   "outputs": [],
   "source": []
  },
  {
   "cell_type": "markdown",
   "metadata": {},
   "source": [
    "### main"
   ]
  },
  {
   "cell_type": "code",
   "execution_count": 2,
   "metadata": {},
   "outputs": [
    {
     "data": {
      "text/plain": [
       "{'Verb0': array([[-0.03650457,  0.41594857, -0.41348452,  0.42319356,  0.12067676,\n",
       "         -0.35633525, -0.17153576,  0.36257666, -0.04570738,  0.22835637]]),\n",
       " 'Verb1': array([[-0.0189807 ,  0.68966802,  0.14076405,  0.51183245,  0.38938015,\n",
       "          0.01312059,  0.29229518,  0.12826641,  0.11902625, -0.09860795]]),\n",
       " 'Verb2': array([[ 0.06712214,  0.77054304,  0.37369213,  0.3799089 ,  0.18734978,\n",
       "          0.0604352 , -0.18048568,  0.5835324 , -0.18176583, -0.10611857]]),\n",
       " 'Verb3': array([[ 0.35617041,  0.20967945,  0.17219219,  0.78820583,  0.13646942,\n",
       "         -0.24938187, -0.04485196,  0.20772196,  0.23945612,  0.39546008]]),\n",
       " 'Verb4': array([[ 0.16225036,  0.32134121,  0.13969043,  0.73330326,  0.21652689,\n",
       "          0.27619072,  0.07939499, -0.05565318, -0.215815  ,  0.11471161]]),\n",
       " 'Verb5': array([[1.23086017e-01, 5.91496097e-01, 1.39818366e-01, 5.69639226e-01,\n",
       "         1.82933663e-01, 2.55471972e-01, 1.31387144e-01, 2.77492372e-01,\n",
       "         3.03330939e-04, 3.67810999e-01]]),\n",
       " 'Verb6': array([[-0.0490766 ,  0.19238458, -0.21854641,  0.67920802,  0.3501459 ,\n",
       "          0.21572457, -0.19938477,  0.38160398,  0.01047288,  0.36266822]]),\n",
       " 'Verb7': array([[ 0.13648168,  0.24538455,  0.22671114,  0.49363484,  0.07036118,\n",
       "         -0.36838339, -0.11304886, -0.31727377, -0.03937455, -0.11987353]]),\n",
       " 'Verb8': array([[ 0.39913562,  0.42365885,  0.0538672 ,  0.61999013,  0.37147655,\n",
       "          0.0595849 ,  0.25188715,  0.05142671, -0.50533698, -0.00194005]]),\n",
       " 'Verb9': array([[ 0.26260371,  0.21231096,  0.53552965,  0.3389349 ,  0.41973608,\n",
       "         -0.23967471,  0.24795821,  0.14473434,  0.01483386,  0.06533382]]),\n",
       " 'Actor0': array([[-0.15700321,  0.23104698,  0.05935826,  0.03168457,  0.22847729,\n",
       "         -0.41996021, -0.15478118, -0.70638609,  0.10347878, -0.42548277]]),\n",
       " 'Actor1': array([[-0.18399245, -0.42533714,  0.16177917,  0.01152028, -0.55046253,\n",
       "          0.1833403 , -0.12011573, -0.25078949,  0.33034133,  0.19692323]]),\n",
       " 'Actor2': array([[-0.1240887 , -0.18151304, -0.01669045, -0.19592432, -0.19883663,\n",
       "          0.14491377, -0.44976737, -0.00626252, -0.04613139, -0.12504352]]),\n",
       " 'Actor3': array([[-0.32456212, -0.37291909,  0.05434517,  0.0830654 , -0.03819213,\n",
       "         -0.10161425, -0.5731589 , -0.11626382,  0.56256546, -0.03148112]]),\n",
       " 'Actor4': array([[-0.36505767, -0.02097464,  0.67676059, -0.11243973, -0.04815919,\n",
       "         -0.32226191, -0.4499014 , -0.371227  ,  0.33775281, -0.37736676]]),\n",
       " 'Actor5': array([[-0.13817632,  0.12811075,  0.26467249,  0.32265845,  0.16900192,\n",
       "         -0.348153  , -0.69358393, -0.16332598,  0.41544217, -0.33612806]]),\n",
       " 'Actor6': array([[-0.17478194, -0.02572513, -0.02755945, -0.0902464 ,  0.16607876,\n",
       "          0.25062646, -0.19266537, -0.22239412, -0.13378508, -0.22996779]]),\n",
       " 'Actor7': array([[-0.33058804, -0.09245008,  0.22692945,  0.01375953,  0.03035448,\n",
       "          0.28468367, -0.02510834, -0.07688587,  0.28386051, -0.09034622]]),\n",
       " 'Actor8': array([[-0.23290356,  0.33786585,  0.35809141, -0.07636085, -0.31503243,\n",
       "         -0.19438589, -0.202714  , -0.48119532, -0.01916355,  0.1187234 ]]),\n",
       " 'Actor9': array([[-0.14731817, -0.11441061, -0.07921865,  0.10395213,  0.03312953,\n",
       "          0.07448075, -0.36294114, -0.25086484,  0.52860248, -0.03041754]]),\n",
       " 'Actor10': array([[-0.42837379,  0.14636198,  0.46241065,  0.05964117, -0.06874889,\n",
       "          0.31127456, -0.12091019,  0.13185479,  0.28869537, -0.32385734]]),\n",
       " 'Actor11': array([[-0.58413738,  0.19826729,  0.59262269,  0.12287279, -0.2449873 ,\n",
       "          0.06391721, -0.03149749,  0.13969886,  0.1971216 , -0.18515329]]),\n",
       " 'Actor12': array([[-0.20920025, -0.0470625 ,  0.16547236,  0.26629329,  0.07669104,\n",
       "          0.13939964, -0.57605423, -0.26333508,  0.40186529, -0.04581579]]),\n",
       " 'Actor13': array([[-0.16473296, -0.29808553,  0.20754727,  0.0349636 , -0.17419371,\n",
       "          0.16844667, -0.47227131, -0.0842347 ,  0.67335573, -0.06706594]]),\n",
       " 'Actor14': array([[-0.12492882, -0.31862187,  0.25461941, -0.04450326, -0.19096146,\n",
       "         -0.27878022, -0.27663416, -0.68689547,  0.36324885, -0.24428974]]),\n",
       " 'Actor15': array([[-0.15353062,  0.23428359,  0.31914598,  0.20377191, -0.2568074 ,\n",
       "         -0.10589273, -0.25364498, -0.05540344,  0.20515394, -0.33431457]]),\n",
       " 'Actor16': array([[ 0.15089794, -0.3738208 ,  0.47165609, -0.32314356,  0.14699827,\n",
       "         -0.34711767, -0.33946696, -0.53310962,  0.6102091 , -0.1709992 ]]),\n",
       " 'Actor17': array([[-0.06561037,  0.11918019,  0.57671581,  0.16719905, -0.17744477,\n",
       "         -0.1717737 , -0.47494669, -0.44213465,  0.06689468, -0.31866738]]),\n",
       " 'Actor18': array([[-0.02726159, -0.07652115,  0.09477443,  0.05528734, -0.21651741,\n",
       "          0.22727333, -0.19947872, -0.18760206,  0.5777396 , -0.10907178]]),\n",
       " 'Actor19': array([[-0.24204075,  0.31129642,  0.38683275,  0.0392505 ,  0.14572343,\n",
       "         -0.00801473, -0.63078448, -0.44928863,  0.58785381, -0.20597922]]),\n",
       " 'Actor20': array([[ 0.16563422,  0.3214958 ,  0.47824156,  0.12889199,  0.06350827,\n",
       "          0.00332643,  0.04241227, -0.45643262,  0.26264751, -0.33690033]]),\n",
       " 'Actor21': array([[-0.09598178,  0.31648795,  0.27347657,  0.19529412, -0.94154171,\n",
       "          0.00432053, -0.36543891, -0.25817733,  0.59025553, -0.01703359]]),\n",
       " 'Actor22': array([[-0.06325198,  0.06441428, -0.04940855,  0.11366362, -0.2105277 ,\n",
       "         -0.10710489, -0.00170955, -0.1362919 ,  0.55748881,  0.28129342]]),\n",
       " 'Actor23': array([[-0.1959006 , -0.04640786,  0.36876322,  0.01559996, -0.04118171,\n",
       "          0.12557952, -0.45348271, -0.04975929,  0.52979984,  0.01548098]]),\n",
       " 'Actor24': array([[-0.44721365, -0.05361077,  0.17913558,  0.18952684, -0.20618735,\n",
       "          0.17421991, -0.36242404, -0.21253249,  0.60840029, -0.38102594]]),\n",
       " 'Actor25': array([[ 0.02464549,  0.14367085, -0.00868516, -0.09469634,  0.09739824,\n",
       "          0.02561747, -0.44573419, -0.29409967,  0.48117395, -0.34332326]]),\n",
       " 'Actor26': array([[-0.32366564,  0.02516732, -0.13175567, -0.17496889, -0.09500625,\n",
       "         -0.23809543, -0.4282071 , -0.34351518,  0.2881366 ,  0.03614377]]),\n",
       " 'Actor27': array([[-0.05924522,  0.25146175,  0.6259051 ,  0.45663794,  0.0745248 ,\n",
       "         -0.22138773, -0.33051089, -0.203063  ,  0.21815418,  0.14603673]]),\n",
       " 'Actor28': array([[-0.52670561,  0.01572897,  0.43851739,  0.21250601,  0.16879702,\n",
       "          0.08894244, -0.18041286, -0.07972253,  0.49067894, -0.11668879]]),\n",
       " 'Actor29': array([[-0.16940624, -0.00756878,  0.53166888, -0.29298763, -0.02879249,\n",
       "         -0.13194621, -0.6433286 , -0.10814697,  0.40843368, -0.1133892 ]]),\n",
       " 'Actor30': array([[-0.31099837,  0.02307325,  0.11675547,  0.33375486, -0.30674557,\n",
       "          0.03579003, -0.32544547, -0.22489044,  0.19046448, -0.03360547]]),\n",
       " 'Actor31': array([[-0.03914759,  0.46293872,  0.3379799 ,  0.05970853, -0.19428672,\n",
       "         -0.2662578 , -0.54070014, -0.09540999,  0.20705189, -0.05524378]]),\n",
       " 'Actor32': array([[-0.62441354,  0.07874911,  0.59404409, -0.44906511, -0.37731804,\n",
       "         -0.11283235, -0.24233567,  0.09749623,  0.0192193 , -0.42793897]]),\n",
       " 'Actor33': array([[ 0.07859284, -0.18363197,  0.47985426,  0.29485832, -0.05445585,\n",
       "          0.24888423, -0.28257198, -0.16180857,  0.1286559 , -0.36581485]]),\n",
       " 'Actor34': array([[-0.2457966 ,  0.16030647,  0.20151073, -0.07151721, -0.12282827,\n",
       "         -0.36313361, -0.4215013 ,  0.04204395, -0.08037744, -0.14845814]]),\n",
       " 'Actor35': array([[-0.2670539 , -0.20101617,  0.34157703,  0.08440205, -0.21852225,\n",
       "          0.49611386, -0.28836345,  0.04212893,  0.29644502, -0.19934507]]),\n",
       " 'Actor36': array([[-0.37234056,  0.13447093,  0.34265473,  0.18036316, -0.16353365,\n",
       "          0.05312671, -0.54062147, -0.28915562,  0.07239499,  0.20840294]]),\n",
       " 'Actor37': array([[-0.27923017,  0.2305121 ,  0.5406055 ,  0.08637233,  0.17492341,\n",
       "         -0.19331669, -0.68255048,  0.05967993, -0.12218868, -0.07419824]]),\n",
       " 'Actor38': array([[-0.12078131,  0.2273708 ,  0.50341685,  0.04330932, -0.61367514,\n",
       "         -0.2534443 , -0.39578697, -0.23174443,  0.38787719, -0.02976801]]),\n",
       " 'Actor39': array([[ 0.07235929, -0.20199124,  0.22492946, -0.04168558, -0.25913471,\n",
       "          0.07560322, -0.42914852,  0.20311887,  0.09407797,  0.06739811]]),\n",
       " 'Actor40': array([[-0.06628148, -0.004005  ,  0.33823572,  0.05967221, -0.05772525,\n",
       "         -0.00726259, -0.60645125, -0.33500938,  0.29121082, -0.44069067]]),\n",
       " 'Actor41': array([[-0.07519362,  0.34770727,  0.62737952, -0.05628828, -0.60240227,\n",
       "         -0.30711069, -0.24978914, -0.2129844 ,  0.2181696 , -0.38353739]]),\n",
       " 'Actor42': array([[ 0.00810664,  0.12414689,  0.45512715, -0.46730927,  0.2982377 ,\n",
       "         -0.25807296, -0.36115937, -0.25049388,  0.24002515,  0.02288178]]),\n",
       " 'Actor43': array([[-0.32264955, -0.06554335, -0.14554562,  0.27918256, -0.12342996,\n",
       "         -0.07154818, -0.1315853 , -0.58673623,  0.34139142, -0.22797198]]),\n",
       " 'Actor44': array([[-0.48704928, -0.19237852,  0.31312553,  0.1061197 ,  0.2090539 ,\n",
       "          0.14283055, -0.17246445,  0.02510166,  0.41147843, -0.07522625]]),\n",
       " 'Actor45': array([[-0.06564869,  0.08249645, -0.27726676,  0.10112801,  0.35350488,\n",
       "          0.16995462, -0.60206263, -0.02665219,  0.34348343, -0.05824866]]),\n",
       " 'Actor46': array([[ 0.15834286, -0.16874904,  0.18961669, -0.10526319,  0.11340364,\n",
       "         -0.28122939, -0.39575227,  0.02765234,  0.0468405 , -0.17325228]]),\n",
       " 'Actor47': array([[-0.06743527, -0.20121379,  0.55641128, -0.30971504, -0.62256093,\n",
       "         -0.17759384, -0.43919319,  0.29990209,  0.17697246, -0.02968911]]),\n",
       " 'Actor48': array([[-0.35950233, -0.01984975,  0.52292222,  0.15056501, -0.23336003,\n",
       "          0.09502611, -0.55048369, -0.66275418,  0.24910793, -0.44879411]]),\n",
       " 'Actor49': array([[-0.2815345 , -0.1377899 , -0.07362651, -0.18113556, -0.43139267,\n",
       "         -0.09379094, -0.52681038, -0.37656114,  0.30906024, -0.11187004]]),\n",
       " 'Schema0': array([[ 0.33724752,  0.52239262,  0.11651848, -0.06527131, -0.04499952,\n",
       "         -0.57775991,  0.22668366, -0.00771929, -0.27500401, -0.09763227]]),\n",
       " 'Schema1': array([[-0.23818009,  0.19586215, -0.14323153,  0.07711135, -0.44644354,\n",
       "         -0.3740772 ,  0.10136868, -0.21805679, -0.28688417, -0.24629118]])}"
      ]
     },
     "execution_count": 2,
     "metadata": {},
     "output_type": "execute_result"
    }
   ],
   "source": [
    "from CSWSEM import *\n",
    "embed_dim = n_verbs = 10\n",
    "n_train,n_test = 40,10\n",
    "get_embedding_library(embed_dim,n_verbs,n_train,n_test)"
   ]
  },
  {
   "cell_type": "markdown",
   "metadata": {},
   "source": [
    "### check: run SEM "
   ]
  },
  {
   "cell_type": "code",
   "execution_count": 9,
   "metadata": {},
   "outputs": [],
   "source": [
    "# parameter search over lr, n_epochs, alpha, lambda\n",
    "model_type        = str('LSTM')\n",
    "lr                = float(0.005)\n",
    "n_epochs          = int(16)    \n",
    "log_alpha         = float(0.0)  # sCRP alpha is set in log scale\n",
    "log_lambda        = float(0.0)  # sCRP lambda is set in log scale\n",
    "seed = int(99)\n",
    "condition = 'single'\n",
    "# number of trials\n",
    "n_train = 40\n",
    "n_test = 10\n",
    "\n",
    "# optimizer\n",
    "optimizer_kwargs = dict(\n",
    "    lr=lr, \n",
    "    beta_1=0.9, \n",
    "    beta_2=0.999, \n",
    "    epsilon=1e-5, \n",
    "    amsgrad=False\n",
    ") \n",
    "\n",
    "f_opts=dict(\n",
    "  batch_size=25, \n",
    "  batch_update=False, \n",
    "  dropout=0.0,\n",
    "  l2_regularization=0.0, \n",
    "  n_epochs=n_epochs,\n",
    "  optimizer_kwargs=optimizer_kwargs\n",
    ")\n",
    "\n",
    "\n",
    "# final param dict\n",
    "sem_kwargs = dict(\n",
    "  lmda=np.exp(log_lambda), \n",
    "  alfa=np.exp(log_alpha), \n",
    "  f_opts=f_opts, \n",
    "  f_class=VanillaLSTM\n",
    ")\n"
   ]
  },
  {
   "cell_type": "code",
   "execution_count": 15,
   "metadata": {},
   "outputs": [],
   "source": [
    "\n",
    "x, y, e, _ = generate_exp(condition, n_train=n_train, n_test=n_test, embedding_library=None)\n",
    "\n",
    "run_kwargs = dict(save_x_hat=True, progress_bar=False)\n",
    "_sem_results = no_split_sem_run_with_boundaries(x, sem_kwargs, run_kwargs)"
   ]
  },
  {
   "cell_type": "code",
   "execution_count": 16,
   "metadata": {},
   "outputs": [
    {
     "data": {
      "text/plain": [
       "<no_split_sem.Results at 0x145578210>"
      ]
     },
     "execution_count": 16,
     "metadata": {},
     "output_type": "execute_result"
    }
   ],
   "source": [
    "_sem_results"
   ]
  },
  {
   "cell_type": "markdown",
   "metadata": {},
   "source": [
    "# Run model\n",
    "\n",
    "main fun call"
   ]
  },
  {
   "cell_type": "code",
   "execution_count": 6,
   "metadata": {},
   "outputs": [
    {
     "name": "stdout",
     "output_type": "stream",
     "text": [
      "seed 97 condition single\n",
      "seed in exp 97\n"
     ]
    },
    {
     "name": "stderr",
     "output_type": "stream",
     "text": [
      "//anaconda3/envs/sem/lib/python3.7/site-packages/sklearn/linear_model/_logistic.py:764: ConvergenceWarning: lbfgs failed to converge (status=1):\n",
      "STOP: TOTAL NO. of ITERATIONS REACHED LIMIT.\n",
      "\n",
      "Increase the number of iterations (max_iter) or scale the data as shown in:\n",
      "    https://scikit-learn.org/stable/modules/preprocessing.html\n",
      "Please also refer to the documentation for alternative solver options:\n",
      "    https://scikit-learn.org/stable/modules/linear_model.html#logistic-regression\n",
      "  extra_warning_msg=_LOGISTIC_SOLVER_CONVERGENCE_MSG)\n"
     ]
    }
   ],
   "source": [
    "\"\"\" \n",
    "main fun call\n",
    "\"\"\"\n",
    "\n",
    "results, trialXtrial, _ = seed_exp( \n",
    "              sem_kwargs, model_type=model_type, \n",
    "              n_train=n_train, n_test=n_test,\n",
    "              condition=condition,seed=seed,\n",
    ")"
   ]
  },
  {
   "cell_type": "code",
   "execution_count": 7,
   "metadata": {},
   "outputs": [],
   "source": [
    "# convert from JSON file format (dict) to pandas df\n",
    "results = pd.DataFrame(results)\n",
    "trialXtrial = pd.DataFrame(trialXtrial)"
   ]
  },
  {
   "cell_type": "markdown",
   "metadata": {
    "colab_type": "text",
    "id": "OAOkKQ5O8j7f"
   },
   "source": [
    "# save\n"
   ]
  },
  {
   "cell_type": "code",
   "execution_count": 10,
   "metadata": {},
   "outputs": [
    {
     "name": "stdout",
     "output_type": "stream",
     "text": [
      "LSTM_cond_single_lr_0.010_nepchs_1_alpha_0.000-lambda_0.000_seed_97\n"
     ]
    }
   ],
   "source": [
    "results_fpath = save_dir + \"results_\" + model_tag + '.csv'\n",
    "trial_fpath = save_dir + \"trial_X_trial_\" + model_tag + '.csv'"
   ]
  },
  {
   "cell_type": "code",
   "execution_count": 11,
   "metadata": {},
   "outputs": [],
   "source": [
    "results.to_csv(results_fpath)\n",
    "trialXtrial.to_csv(trial_fpath)"
   ]
  }
 ],
 "metadata": {
  "colab": {
   "collapsed_sections": [
    "Fg0K8FUow9Dy",
    "J0shpNw-wRT2"
   ],
   "name": "AndreTask; 2/7/20.ipynb",
   "provenance": [],
   "toc_visible": true
  },
  "kernelspec": {
   "display_name": "Python 3",
   "language": "python",
   "name": "python3"
  },
  "language_info": {
   "codemirror_mode": {
    "name": "ipython",
    "version": 3
   },
   "file_extension": ".py",
   "mimetype": "text/x-python",
   "name": "python",
   "nbconvert_exporter": "python",
   "pygments_lexer": "ipython3",
   "version": "3.7.9"
  }
 },
 "nbformat": 4,
 "nbformat_minor": 1
}
