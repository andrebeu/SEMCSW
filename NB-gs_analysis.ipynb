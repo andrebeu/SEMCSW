{
 "cells": [
  {
   "cell_type": "code",
   "execution_count": 50,
   "metadata": {},
   "outputs": [],
   "source": [
    "import os\n",
    "import numpy as np\n",
    "import torch as tr\n",
    "\n",
    "from CSWSEM import *\n",
    "from matplotlib import pyplot as plt"
   ]
  },
  {
   "cell_type": "code",
   "execution_count": 4,
   "metadata": {},
   "outputs": [],
   "source": [
    "gs_name = 'absem'"
   ]
  },
  {
   "cell_type": "code",
   "execution_count": 25,
   "metadata": {},
   "outputs": [],
   "source": [
    "from glob import glob as glob\n",
    "import pandas as pd\n",
    "\n",
    "def make_gsdf(gs_name):\n",
    "  gs_dir = \"gsdata/%s/\"%gs_name\n",
    "  fpathL = glob(gs_dir+'*')\n",
    "  seed_df_L = []\n",
    "  for fpath in fpathL:\n",
    "    condition = fpath.split('/')[-1].split('__')[1].split('_')[1]\n",
    "    seed_df = pd.read_csv(fpath)\n",
    "    seed_df.loc[:,'condition'] = condition\n",
    "    seed_df_L.append(seed_df)\n",
    "  gsdf = pd.concat(seed_df_L)\n",
    "  gsdf.index = np.arange(len(gsdf))\n",
    "  return gsdf"
   ]
  },
  {
   "cell_type": "code",
   "execution_count": 26,
   "metadata": {},
   "outputs": [],
   "source": [
    "gsdf = make_gsdf(gs_name)"
   ]
  },
  {
   "cell_type": "code",
   "execution_count": 69,
   "metadata": {
    "scrolled": true
   },
   "outputs": [],
   "source": [
    "paramL = ['condition','nosplit','learn_rate','lmda','alfa']\n",
    "loss_df = gsdf.groupby(paramL+['trial']).mean().loss\n",
    "df_group = loss_df.groupby(paramL)\n",
    "\n",
    "for param_tuple,mean_loss in df_group:\n",
    "  param_str = '-'.join([str(i) for i in param_tuple])\n",
    "  plt.figure(figsize=(8,3))\n",
    "  plt.plot(1-mean_loss.values)\n",
    "  plt.title(param_str)\n",
    "  plt.ylim(0,1)\n",
    "  plt.savefig('figures/gs-%s/loss-%s.png'%(gs_name,param_str))\n",
    "  plt.close('all')"
   ]
  },
  {
   "cell_type": "code",
   "execution_count": null,
   "metadata": {},
   "outputs": [],
   "source": []
  }
 ],
 "metadata": {
  "kernelspec": {
   "display_name": "Python 3",
   "language": "python",
   "name": "python3"
  },
  "language_info": {
   "codemirror_mode": {
    "name": "ipython",
    "version": 3
   },
   "file_extension": ".py",
   "mimetype": "text/x-python",
   "name": "python",
   "nbconvert_exporter": "python",
   "pygments_lexer": "ipython3",
   "version": "3.7.3"
  }
 },
 "nbformat": 4,
 "nbformat_minor": 4
}
