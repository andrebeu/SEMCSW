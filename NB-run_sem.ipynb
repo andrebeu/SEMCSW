{
 "cells": [
  {
   "cell_type": "code",
   "execution_count": 1,
   "metadata": {},
   "outputs": [],
   "source": [
    "import os\n",
    "import numpy as np\n",
    "import torch as tr\n",
    "\n",
    "from CSWSEM import *\n",
    "from matplotlib import pyplot as plt\n",
    "\n",
    "%load_ext autoreload\n",
    "%reload_ext autoreload\n",
    "%autoreload 2"
   ]
  },
  {
   "cell_type": "code",
   "execution_count": 2,
   "metadata": {},
   "outputs": [
    {
     "name": "stdout",
     "output_type": "stream",
     "text": [
      "nosplit_0__cond_blocked__learnrate_0.050__alfa_10.000000__lmbda_1.000000__seed_97\n"
     ]
    }
   ],
   "source": [
    "import os\n",
    "import numpy as np\n",
    "import torch as tr\n",
    "\n",
    "from CSWSEM import *\n",
    "gs_name = 'gs2'\n",
    "\n",
    "import sys\n",
    "\n",
    "# sweep params\n",
    "# nosplit = int(sys.argv[1])\n",
    "# condition = str(sys.argv[2])\n",
    "# learn_rate = float(sys.argv[3])\n",
    "# alfa = float(sys.argv[4])\n",
    "# lmda = float(sys.argv[5])\n",
    "# seed = int(sys.argv[6])\n",
    "stsize = 25\n",
    "\n",
    "# nb\n",
    "condition = 'blocked'\n",
    "stsize = 25\n",
    "learn_rate = 0.05\n",
    "seed = 97\n",
    "alfa = 10\n",
    "lmda = 1\n",
    "nosplit = 0\n",
    "\n",
    "\n",
    "model_tag = 'nosplit_%i__cond_%s__learnrate_%.3f__alfa_%f__lmbda_%f__seed_%i'%(\n",
    "  int(nosplit),condition,learn_rate,alfa,lmda,seed)\n",
    "print(model_tag)\n",
    "\n",
    "\n",
    "# params\n",
    "exp_kwargs={\n",
    "    'condition':condition,\n",
    "    'n_train':160,\n",
    "    'n_test':40\n",
    "}\n",
    "\n",
    "\n",
    "\n",
    "sem_kwargs={\n",
    "    'nosplit':nosplit,\n",
    "    'stsize':stsize,\n",
    "    'lmda':lmda,\n",
    "    'alfa':alfa,\n",
    "    'learn_rate':learn_rate,\n",
    "    'seed':seed,\n",
    "}\n",
    "\n",
    "# setup\n",
    "task = CSWTask()\n",
    "sem = SEM(**sem_kwargs)\n",
    "\n",
    "# run\n",
    "exp,curr = task.generate_experiment(**exp_kwargs)\n",
    "sem_data = sem.forward_exp(exp)\n",
    "\n",
    "# record curriculum (not idea, recording with every obs)\n",
    "sem.data.record_exp('curriculum',curr)\n",
    "\n",
    "# save\n",
    "import pandas as pd\n",
    "save_fpath = 'gsdata/%s/%s'%(gs_name,model_tag)\n",
    "pd.DataFrame(sem_data).to_csv(save_fpath)\n",
    "\n"
   ]
  },
  {
   "cell_type": "code",
   "execution_count": null,
   "metadata": {},
   "outputs": [],
   "source": [
    "pd.DataFrame(sem_data)"
   ]
  }
 ],
 "metadata": {
  "kernelspec": {
   "display_name": "Python 3",
   "language": "python",
   "name": "python3"
  },
  "language_info": {
   "codemirror_mode": {
    "name": "ipython",
    "version": 3
   },
   "file_extension": ".py",
   "mimetype": "text/x-python",
   "name": "python",
   "nbconvert_exporter": "python",
   "pygments_lexer": "ipython3",
   "version": "3.7.9"
  }
 },
 "nbformat": 4,
 "nbformat_minor": 4
}
