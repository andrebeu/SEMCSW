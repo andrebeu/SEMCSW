{
 "cells": [
  {
   "cell_type": "code",
   "execution_count": 1,
   "metadata": {},
   "outputs": [],
   "source": [
    "import sys\n",
    "import itertools\n",
    "import os\n",
    "import numpy as np\n",
    "import torch as tr\n",
    "import pandas as pd\n",
    "\n",
    "from CSWSEM import *\n",
    "from matplotlib import pyplot as plt\n",
    "\n",
    "%load_ext autoreload\n",
    "%reload_ext autoreload\n",
    "%autoreload 2"
   ]
  },
  {
   "cell_type": "code",
   "execution_count": 2,
   "metadata": {},
   "outputs": [],
   "source": [
    "## input params\n",
    "learn_rate = 0.05\n",
    "alfa = 0.0001\n",
    "lmda = 100000\n",
    "stsize = 35"
   ]
  },
  {
   "cell_type": "code",
   "execution_count": 3,
   "metadata": {},
   "outputs": [],
   "source": [
    "gs_name = 'gs-acc'"
   ]
  },
  {
   "cell_type": "code",
   "execution_count": 4,
   "metadata": {},
   "outputs": [],
   "source": [
    "num_seeds = 2\n",
    "condL = ['blocked','interleaved']\n",
    "\n",
    "exp_kwargs={\n",
    "    'n_train':160,\n",
    "    'n_test':40\n",
    "}\n",
    "\n",
    "sem_kwargs={\n",
    "    'nosplit':False,\n",
    "    'stsize':stsize,\n",
    "    'lmda':lmda,\n",
    "    'alfa':alfa,\n",
    "    'learn_rate':learn_rate,\n",
    "}"
   ]
  },
  {
   "cell_type": "code",
   "execution_count": 5,
   "metadata": {},
   "outputs": [],
   "source": [
    "dataL = []\n",
    "exphat = -np.ones([num_seeds,len(condL),200,5,10]) # (trials,tsteps,obsdim)"
   ]
  },
  {
   "cell_type": "code",
   "execution_count": 6,
   "metadata": {
    "scrolled": true
   },
   "outputs": [
    {
     "name": "stdout",
     "output_type": "stream",
     "text": [
      "0 blocked\n",
      "0 interleaved\n",
      "1 blocked\n",
      "1 interleaved\n"
     ]
    }
   ],
   "source": [
    "for seed in np.arange(num_seeds):\n",
    "  for cidx,cond in enumerate(condL):\n",
    "    print(seed,cond)\n",
    "    np.random.seed(seed)\n",
    "    tr.manual_seed(seed)\n",
    "    # setup\n",
    "    sem_kwargs['seed'] = seed\n",
    "    exp_kwargs['condition'] = cond\n",
    "    task = CSWTask(seed)\n",
    "    sem = SEM(**sem_kwargs)\n",
    "    # run\n",
    "    exp,curr = task.generate_experiment(**exp_kwargs)\n",
    "    sem_data = sem.forward_exp(exp,curr)\n",
    "    ### eval\n",
    "    exphat[seed,cidx] = np.array([tdata['event_hat'] for tdata in sem_data])\n",
    "    # record data\n",
    "    sem.data.record_exp('condition',exp_kwargs['condition'])\n",
    "    dataL.append(pd.DataFrame(sem_data))"
   ]
  },
  {
   "cell_type": "code",
   "execution_count": 14,
   "metadata": {},
   "outputs": [
    {
     "name": "stdout",
     "output_type": "stream",
     "text": [
      "done\n"
     ]
    }
   ],
   "source": [
    "save_fpath = 'gsdata/%s/'%(gs_name)\n",
    "batch_tag = 'learnrate_%.3f__alfa_%f__lmbda_%f'%(learn_rate,alfa,lmda)\n",
    "np.save(save_fpath+'exphat__'+batch_tag,exphat)\n",
    "pd.concat(dataL).to_csv(save_fpath+'semdata__'+batch_tag+'.csv')"
   ]
  }
 ],
 "metadata": {
  "kernelspec": {
   "display_name": "Python 3",
   "language": "python",
   "name": "python3"
  },
  "language_info": {
   "codemirror_mode": {
    "name": "ipython",
    "version": 3
   },
   "file_extension": ".py",
   "mimetype": "text/x-python",
   "name": "python",
   "nbconvert_exporter": "python",
   "pygments_lexer": "ipython3",
   "version": "3.7.9"
  }
 },
 "nbformat": 4,
 "nbformat_minor": 4
}
