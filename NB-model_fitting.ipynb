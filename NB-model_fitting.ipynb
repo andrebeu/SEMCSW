{
 "cells": [
  {
   "cell_type": "markdown",
   "metadata": {
    "colab_type": "text",
    "id": "NQ9KSajiwUpk"
   },
   "source": [
    "# Grid Search\n",
    "\n",
    "Use KL divergence to find the best-fit parameters for each model.\n",
    "\n",
    "## Important Note on the Fitting\n",
    "It's worth noting this fitting is stochasitc -- we don't have a closed form likelihood on which to evaluate the human behavior, and instead, we're matching the distribution of human data to the distribution of model data.  As a consequence, while the fitting procedure as a whole is probably fine, I don't know that I have a ton of confidence in the parameter values themselves.  By this I mean that if we were to run the grid search again with new samples, I think we would fine the same patterns of behavior and the same relative ordering of the models.  (I've actually done this a couple of times with slightly different constraints, which is why I'm confident in this).  That being said, I don't know if we would find the same parameters, and I don't know if a new sample of these paramters would produce consistent behavior. This problem is solvable (just run 10x more batches for the grid-search) but it's not particularly important for our purposes, so I've ignored it.\n",
    "\n",
    "*The key takeaway from this is that if we want to make changes to the model for some reason, we would have to re-do the grid-search!*\n",
    "\n",
    "What you don't want is to be in a situation where you're looking at effects that have evaporated for some reason under new simulations.  The fix to that is to re-run the grid search (maybe with a larger sample size) and check again.\n"
   ]
  },
  {
   "cell_type": "markdown",
   "metadata": {
    "colab_type": "text",
    "id": "FCrz6mCuD6i8"
   },
   "source": [
    "## Load Libraries"
   ]
  },
  {
   "cell_type": "code",
   "execution_count": 1,
   "metadata": {
    "colab": {
     "base_uri": "https://localhost:8080/",
     "height": 34
    },
    "colab_type": "code",
    "id": "bL_loOI9pGTo",
    "outputId": "d3090dde-8cf2-4452-a62c-7630b5b430b8"
   },
   "outputs": [],
   "source": [
    "%matplotlib inline\n",
    "import numpy as np\n",
    "import matplotlib.pyplot as plt\n",
    "import seaborn as sns\n",
    "from tqdm import tqdm\n",
    "import pandas as pd\n",
    "\n",
    "from glob import glob\n",
    "import json\n",
    "\n",
    "import re\n",
    "import statsmodels.api as sm\n",
    "import statsmodels.formula.api as smf\n",
    "\n",
    "import os\n",
    "\n",
    "sns.set_context('talk')"
   ]
  },
  {
   "cell_type": "markdown",
   "metadata": {},
   "source": [
    "## Helper functions\n",
    "\n",
    "\n",
    "### KL divergence\n",
    "\n",
    "Here, we use the sample distribution of the model and the empirical distribution of the \n",
    "human subjects and assume their empirical mean and variances are the mean and variance of a normal approximation to the population distribution.  Then we use the KL divergence to fit the model\n",
    "\n",
    "Let $p(x) = N(x; \\mu_1, \\sigma_1)$ be the human data and $q(x) = N(x; \\mu_2, \\sigma_2)$ be the model we are using to approximate the human data.  We are minimzing the KL with\n",
    "\n",
    "$$KL(p||q) = -\\int_x p(x) \\ln \\frac{q(x)}{p(x)}$$\n",
    "\n",
    "which, with Gaussians is equal to \n",
    "\n",
    "$$KL(p||q) = \\ln \\frac{\\sigma_2}{\\sigma_1} + \\frac{\\sigma_1^2 + (\\mu_1 - \\mu_2)^2}{2\\sigma^2_2} - \\frac{1}{2}$$\n",
    "\n",
    "\n"
   ]
  },
  {
   "cell_type": "code",
   "execution_count": 2,
   "metadata": {},
   "outputs": [],
   "source": [
    "def kl_pq(mu_1, mu_2, sd_1, sd_2):\n",
    "    # p(x) = N(x; mu_1, sd_1)\n",
    "    # q(x) = N(x; mu_2, sd_2)\n",
    "    \n",
    "    return np.log(sd_2) - np.log(sd_1) + \\\n",
    "        (sd_1 ** 2 + (mu_1 - mu_2)**2) / (2 * (sd_2**2) ) - 0.5"
   ]
  },
  {
   "cell_type": "markdown",
   "metadata": {
    "colab_type": "text",
    "id": "Fg0K8FUow9Dy"
   },
   "source": [
    "# Load data -- Trial by Trial"
   ]
  },
  {
   "cell_type": "code",
   "execution_count": 3,
   "metadata": {},
   "outputs": [
    {
     "data": {
      "text/plain": [
       "[<matplotlib.lines.Line2D at 0x11beadf90>]"
      ]
     },
     "execution_count": 3,
     "metadata": {},
     "output_type": "execute_result"
    },
    {
     "data": {
      "image/png": "[encoded data removed]",
      "text/plain": [
       "<Figure size 432x288 with 1 Axes>"
      ]
     },
     "metadata": {
      "needs_background": "light"
     },
     "output_type": "display_data"
    }
   ],
   "source": [
    "# human behavior\n",
    "trial_by_trial = pd.read_csv('./data/BehDataTrialXTrial.csv', index_col=1)\n",
    "trial_by_trial.columns = trial_by_trial.columns.str.lower()\n",
    "plt.plot(trial_by_trial.loc[:,'blocked mean'])"
   ]
  },
  {
   "cell_type": "markdown",
   "metadata": {},
   "source": [
    "### parse file string to uncover parameter set "
   ]
  },
  {
   "cell_type": "code",
   "execution_count": 24,
   "metadata": {},
   "outputs": [],
   "source": [
    "def parse_file_str(file_str):\n",
    "  D = {}\n",
    "  fsplit = file_str.split('_')\n",
    "#   print(fsplit)\n",
    "  D['cond'] = str(fsplit[-10])\n",
    "  D['seed'] = int(fsplit[-1].split('.')[0])\n",
    "  D['alfa'] = parse_alfa(fsplit[-4])\n",
    "  D['lmbda'] = float(fsplit[-3])\n",
    "  D['lr'] = float(fsplit[-8])\n",
    "  D['nepochs'] = int(fsplit[-6])\n",
    "  return D\n",
    "\n",
    "def parse_alfa(alfa_str):\n",
    "  asplit = alfa_str.split('-')\n",
    "  if len(asplit)==3:\n",
    "    alfa = -float(asplit[1])\n",
    "  elif len(asplit)==2:\n",
    "    alfa = float(asplit[0])\n",
    "  else:\n",
    "    print(asplit)\n",
    "  return alfa"
   ]
  },
  {
   "cell_type": "code",
   "execution_count": 54,
   "metadata": {},
   "outputs": [],
   "source": [
    "def create_gsdf(gs_name):\n",
    "  \"\"\" create single long dataframe \n",
    "  with data from all models\"\"\"\n",
    "  model_dfL = []\n",
    "  fpathL = glob('gsdata/%s/t*'%gs_name)\n",
    "  for idx,fpath in enumerate(fpathL):\n",
    "    param_dict = parse_file_str(fpath)\n",
    "    model_data = pd.read_csv(fpath)\n",
    "    # populate model_dat with param_dict\n",
    "    for name,val in param_dict.items():\n",
    "      model_data.loc[:,name] = val\n",
    "    model_data.loc[:,model_idx] = idx\n",
    "    model_dfL.append(model_data)\n",
    "  gsdf = pd.concat(model_dfL)\n",
    "  return gsdf\n",
    "\n",
    "# gsdf = create_gsdf('sem1')\n",
    "# gsdf.to_csv('gsdata/sem1/gsdf-sem1')"
   ]
  },
  {
   "cell_type": "code",
   "execution_count": 55,
   "metadata": {},
   "outputs": [
    {
     "data": {
      "text/html": [
       "<div>\n",
       "<style scoped>\n",
       "    .dataframe tbody tr th:only-of-type {\n",
       "        vertical-align: middle;\n",
       "    }\n",
       "\n",
       "    .dataframe tbody tr th {\n",
       "        vertical-align: top;\n",
       "    }\n",
       "\n",
       "    .dataframe thead th {\n",
       "        text-align: right;\n",
       "    }\n",
       "</style>\n",
       "<table border=\"1\" class=\"dataframe\">\n",
       "  <thead>\n",
       "    <tr style=\"text-align: right;\">\n",
       "      <th></th>\n",
       "      <th>Unnamed: 0</th>\n",
       "      <th>Unnamed: 0.1</th>\n",
       "      <th>t</th>\n",
       "      <th>e_hat</th>\n",
       "      <th>accuracy</th>\n",
       "      <th>pe</th>\n",
       "      <th>seed</th>\n",
       "      <th>condition</th>\n",
       "      <th>cond</th>\n",
       "      <th>alfa</th>\n",
       "      <th>lmbda</th>\n",
       "      <th>lr</th>\n",
       "      <th>nepochs</th>\n",
       "    </tr>\n",
       "  </thead>\n",
       "  <tbody>\n",
       "    <tr>\n",
       "      <th>0</th>\n",
       "      <td>0</td>\n",
       "      <td>0</td>\n",
       "      <td>0</td>\n",
       "      <td>0</td>\n",
       "      <td>0.383845</td>\n",
       "      <td>0.732405</td>\n",
       "      <td>1</td>\n",
       "      <td>blocked</td>\n",
       "      <td>blocked</td>\n",
       "      <td>-16.0</td>\n",
       "      <td>32.0</td>\n",
       "      <td>0.01</td>\n",
       "      <td>4</td>\n",
       "    </tr>\n",
       "    <tr>\n",
       "      <th>1</th>\n",
       "      <td>1</td>\n",
       "      <td>1</td>\n",
       "      <td>1</td>\n",
       "      <td>0</td>\n",
       "      <td>0.159671</td>\n",
       "      <td>0.659243</td>\n",
       "      <td>1</td>\n",
       "      <td>blocked</td>\n",
       "      <td>blocked</td>\n",
       "      <td>-16.0</td>\n",
       "      <td>32.0</td>\n",
       "      <td>0.01</td>\n",
       "      <td>4</td>\n",
       "    </tr>\n",
       "    <tr>\n",
       "      <th>2</th>\n",
       "      <td>2</td>\n",
       "      <td>2</td>\n",
       "      <td>2</td>\n",
       "      <td>0</td>\n",
       "      <td>0.448376</td>\n",
       "      <td>0.525375</td>\n",
       "      <td>1</td>\n",
       "      <td>blocked</td>\n",
       "      <td>blocked</td>\n",
       "      <td>-16.0</td>\n",
       "      <td>32.0</td>\n",
       "      <td>0.01</td>\n",
       "      <td>4</td>\n",
       "    </tr>\n",
       "    <tr>\n",
       "      <th>3</th>\n",
       "      <td>3</td>\n",
       "      <td>3</td>\n",
       "      <td>3</td>\n",
       "      <td>0</td>\n",
       "      <td>0.533884</td>\n",
       "      <td>0.471617</td>\n",
       "      <td>1</td>\n",
       "      <td>blocked</td>\n",
       "      <td>blocked</td>\n",
       "      <td>-16.0</td>\n",
       "      <td>32.0</td>\n",
       "      <td>0.01</td>\n",
       "      <td>4</td>\n",
       "    </tr>\n",
       "    <tr>\n",
       "      <th>4</th>\n",
       "      <td>4</td>\n",
       "      <td>4</td>\n",
       "      <td>4</td>\n",
       "      <td>0</td>\n",
       "      <td>0.243571</td>\n",
       "      <td>0.563420</td>\n",
       "      <td>1</td>\n",
       "      <td>blocked</td>\n",
       "      <td>blocked</td>\n",
       "      <td>-16.0</td>\n",
       "      <td>32.0</td>\n",
       "      <td>0.01</td>\n",
       "      <td>4</td>\n",
       "    </tr>\n",
       "    <tr>\n",
       "      <th>...</th>\n",
       "      <td>...</td>\n",
       "      <td>...</td>\n",
       "      <td>...</td>\n",
       "      <td>...</td>\n",
       "      <td>...</td>\n",
       "      <td>...</td>\n",
       "      <td>...</td>\n",
       "      <td>...</td>\n",
       "      <td>...</td>\n",
       "      <td>...</td>\n",
       "      <td>...</td>\n",
       "      <td>...</td>\n",
       "      <td>...</td>\n",
       "    </tr>\n",
       "    <tr>\n",
       "      <th>7809195</th>\n",
       "      <td>195</td>\n",
       "      <td>195</td>\n",
       "      <td>195</td>\n",
       "      <td>195</td>\n",
       "      <td>0.675595</td>\n",
       "      <td>1.018367</td>\n",
       "      <td>9</td>\n",
       "      <td>blocked</td>\n",
       "      <td>blocked</td>\n",
       "      <td>32.0</td>\n",
       "      <td>-2.0</td>\n",
       "      <td>0.01</td>\n",
       "      <td>32</td>\n",
       "    </tr>\n",
       "    <tr>\n",
       "      <th>7809196</th>\n",
       "      <td>196</td>\n",
       "      <td>196</td>\n",
       "      <td>196</td>\n",
       "      <td>196</td>\n",
       "      <td>0.498172</td>\n",
       "      <td>0.937761</td>\n",
       "      <td>9</td>\n",
       "      <td>blocked</td>\n",
       "      <td>blocked</td>\n",
       "      <td>32.0</td>\n",
       "      <td>-2.0</td>\n",
       "      <td>0.01</td>\n",
       "      <td>32</td>\n",
       "    </tr>\n",
       "    <tr>\n",
       "      <th>7809197</th>\n",
       "      <td>197</td>\n",
       "      <td>197</td>\n",
       "      <td>197</td>\n",
       "      <td>197</td>\n",
       "      <td>0.126725</td>\n",
       "      <td>1.001923</td>\n",
       "      <td>9</td>\n",
       "      <td>blocked</td>\n",
       "      <td>blocked</td>\n",
       "      <td>32.0</td>\n",
       "      <td>-2.0</td>\n",
       "      <td>0.01</td>\n",
       "      <td>32</td>\n",
       "    </tr>\n",
       "    <tr>\n",
       "      <th>7809198</th>\n",
       "      <td>198</td>\n",
       "      <td>198</td>\n",
       "      <td>198</td>\n",
       "      <td>198</td>\n",
       "      <td>0.300052</td>\n",
       "      <td>1.014361</td>\n",
       "      <td>9</td>\n",
       "      <td>blocked</td>\n",
       "      <td>blocked</td>\n",
       "      <td>32.0</td>\n",
       "      <td>-2.0</td>\n",
       "      <td>0.01</td>\n",
       "      <td>32</td>\n",
       "    </tr>\n",
       "    <tr>\n",
       "      <th>7809199</th>\n",
       "      <td>199</td>\n",
       "      <td>199</td>\n",
       "      <td>199</td>\n",
       "      <td>199</td>\n",
       "      <td>0.691173</td>\n",
       "      <td>1.229549</td>\n",
       "      <td>9</td>\n",
       "      <td>blocked</td>\n",
       "      <td>blocked</td>\n",
       "      <td>32.0</td>\n",
       "      <td>-2.0</td>\n",
       "      <td>0.01</td>\n",
       "      <td>32</td>\n",
       "    </tr>\n",
       "  </tbody>\n",
       "</table>\n",
       "<p>7809200 rows × 13 columns</p>\n",
       "</div>"
      ],
      "text/plain": [
       "         Unnamed: 0  Unnamed: 0.1    t  e_hat  accuracy        pe  seed  \\\n",
       "0                 0             0    0      0  0.383845  0.732405     1   \n",
       "1                 1             1    1      0  0.159671  0.659243     1   \n",
       "2                 2             2    2      0  0.448376  0.525375     1   \n",
       "3                 3             3    3      0  0.533884  0.471617     1   \n",
       "4                 4             4    4      0  0.243571  0.563420     1   \n",
       "...             ...           ...  ...    ...       ...       ...   ...   \n",
       "7809195         195           195  195    195  0.675595  1.018367     9   \n",
       "7809196         196           196  196    196  0.498172  0.937761     9   \n",
       "7809197         197           197  197    197  0.126725  1.001923     9   \n",
       "7809198         198           198  198    198  0.300052  1.014361     9   \n",
       "7809199         199           199  199    199  0.691173  1.229549     9   \n",
       "\n",
       "        condition     cond  alfa  lmbda    lr  nepochs  \n",
       "0         blocked  blocked -16.0   32.0  0.01        4  \n",
       "1         blocked  blocked -16.0   32.0  0.01        4  \n",
       "2         blocked  blocked -16.0   32.0  0.01        4  \n",
       "3         blocked  blocked -16.0   32.0  0.01        4  \n",
       "4         blocked  blocked -16.0   32.0  0.01        4  \n",
       "...           ...      ...   ...    ...   ...      ...  \n",
       "7809195   blocked  blocked  32.0   -2.0  0.01       32  \n",
       "7809196   blocked  blocked  32.0   -2.0  0.01       32  \n",
       "7809197   blocked  blocked  32.0   -2.0  0.01       32  \n",
       "7809198   blocked  blocked  32.0   -2.0  0.01       32  \n",
       "7809199   blocked  blocked  32.0   -2.0  0.01       32  \n",
       "\n",
       "[7809200 rows x 13 columns]"
      ]
     },
     "execution_count": 55,
     "metadata": {},
     "output_type": "execute_result"
    }
   ],
   "source": [
    "gsdf = pd.read_csv('gsdata/sem1/gsdf-sem1')\n",
    "gsdf"
   ]
  },
  {
   "cell_type": "markdown",
   "metadata": {},
   "source": [
    "\n",
    "### compute error metrics "
   ]
  },
  {
   "cell_type": "code",
   "execution_count": null,
   "metadata": {
    "scrolled": true
   },
   "outputs": [],
   "source": [
    "def get_KL_and_MSE(file):\n",
    "  \"\"\" \n",
    "  returns error metrics (KL and MSE) for given parameter_set\n",
    "  \"\"\"\n",
    "  # load model trial-by-trial data\n",
    "  model_data = pd.read_csv(file)\n",
    "  model_data.columns = model_data.columns.str.lower()\n",
    "  # sum MSE and KL across conditions\n",
    "  MSE = 0\n",
    "  KL = 0\n",
    "  model_grouped = model_data.groupby(['condition', 't'])\n",
    "  for cond in ['blocked', 'interleaved']:\n",
    "      # model mean and std \n",
    "      mu_model = model_grouped.mean().loc[cond]['accuracy'].values\n",
    "      sd_model = model_grouped.std().loc[cond]['accuracy'].values\n",
    "      # human mean and std\n",
    "      mu_beh = trial_by_trial.loc[:, '{} mean'.format(cond)].values\n",
    "      sd_beh = trial_by_trial.loc[:, '{} stddev'.format(cond)].values\n",
    "      # add error over conditions\n",
    "      MSE += np.mean((mu_beh - mu_model) ** 2)\n",
    "      KL  += np.sum(kl_pq(mu_beh, mu_model, sd_beh, sd_model))\n",
    "  return {\n",
    "    'MSE':MSE,\n",
    "    'KL':KL\n",
    "  }\n"
   ]
  },
  {
   "cell_type": "code",
   "execution_count": null,
   "metadata": {},
   "outputs": [],
   "source": [
    "\"\"\" \n",
    "make results_df: \n",
    "  dataframe with fitting data from all models \n",
    "\"\"\"\n",
    "\n",
    "head_dir = './data/gridsearch_full1/'\n",
    "trial_files = glob(head_dir + 'trial*csv')\n",
    "files.sort()\n",
    "\n",
    "L = []\n",
    "for file in trial_files:\n",
    "  err_dict = get_KL_and_MSE(file)\n",
    "  param_dict = parse_file_str(file)\n",
    "  L.append({**param_dict,**err_dict})\n",
    "results_df = pd.pandas.DataFrame(L)"
   ]
  },
  {
   "cell_type": "markdown",
   "metadata": {},
   "source": [
    "### NB Nick's code had a bug, so that he was using MSE instead of KL"
   ]
  },
  {
   "cell_type": "code",
   "execution_count": null,
   "metadata": {},
   "outputs": [],
   "source": [
    "results_df.groupby('model_type')['MSE'].min()"
   ]
  },
  {
   "cell_type": "code",
   "execution_count": null,
   "metadata": {
    "scrolled": true
   },
   "outputs": [],
   "source": [
    "results_df.groupby('model_type')['KL'].min()"
   ]
  },
  {
   "cell_type": "markdown",
   "metadata": {},
   "source": [
    "### get model with min error"
   ]
  },
  {
   "cell_type": "code",
   "execution_count": null,
   "metadata": {},
   "outputs": [],
   "source": [
    "def get_min_err_model(model_type,eval_metric):\n",
    "  \"\"\" returns trial-by-trial dataframe \n",
    "  with info from best fit model\n",
    "  \"\"\"\n",
    "  min_err = results_df.groupby('model_type')[eval_metric].min()[model_type]\n",
    "  _,lr,nep,alfa,lmbda,_,_ = results_df[results_df[eval_metric] == min_err].values[0]\n",
    "  fpath = \"trial_X_trial_%s-lr-%.3f-nepchs-%i-alpha-%.3f-lambda-%.3f.csv\"%(\n",
    "            model_type,lr,nep,alfa,lmbda)\n",
    "  print(fpath)\n",
    "  df = pd.read_csv(head_dir+'/'+fpath)\n",
    "  return df\n"
   ]
  },
  {
   "cell_type": "code",
   "execution_count": null,
   "metadata": {},
   "outputs": [],
   "source": [
    "model_df = get_min_err_model('LSTM','MSE')\n",
    "model_df"
   ]
  },
  {
   "cell_type": "code",
   "execution_count": null,
   "metadata": {
    "scrolled": true
   },
   "outputs": [],
   "source": [
    "sns.relplot(data=model_df[model_df.Condition=='blocked'],\n",
    "            x='t', y='Accuracy', kind='line', aspect=2, height=3)\n",
    "plt.ylim(0.4,1)"
   ]
  },
  {
   "cell_type": "markdown",
   "metadata": {},
   "source": [
    "# nick"
   ]
  },
  {
   "cell_type": "code",
   "execution_count": null,
   "metadata": {},
   "outputs": [],
   "source": [
    "assert False"
   ]
  },
  {
   "cell_type": "code",
   "execution_count": null,
   "metadata": {},
   "outputs": [],
   "source": [
    "#LSTM\n",
    "model = 'LSTM'\n",
    "tXt_Loss.loc[(tXt_Loss.model == model) & (tXt_Loss.KL == min_vals[model])]"
   ]
  },
  {
   "cell_type": "code",
   "execution_count": null,
   "metadata": {},
   "outputs": [],
   "source": [
    "#SEM\n",
    "model = 'SEM'\n",
    "tXt_Loss.loc[(tXt_Loss.model == model) & (tXt_Loss.KL == min_vals[model])]"
   ]
  },
  {
   "cell_type": "code",
   "execution_count": null,
   "metadata": {},
   "outputs": [],
   "source": [
    "#MLP\n",
    "model = 'MLP'\n",
    "tXt_Loss.loc[(tXt_Loss.model == model) & (tXt_Loss.KL == min_vals[model])]"
   ]
  },
  {
   "cell_type": "code",
   "execution_count": null,
   "metadata": {},
   "outputs": [],
   "source": [
    "def get_data(model):\n",
    "    theta = tXt_Loss.loc[(tXt_Loss.model == model) & (tXt_Loss.KL == min_vals[model])]\n",
    "    lr, n_epochs, logalpha, loglamda = \\\n",
    "        theta.loc[:, 'lr n_epochs logalpha loglamda'.split()].values[0]\n",
    "    \n",
    "    model_name = ['VanillaLSTM', 'MLP'][model == 'MLP']\n",
    "    no_split_tag = ['_nosplit', ''][model == 'SEM']\n",
    "    \n",
    "    args = [lr, int(n_epochs), float(logalpha), float(loglamda),no_split_tag]\n",
    "#     hdir = 'data/'\n",
    "    file = '{}trial_X_trial_{}_nhiddenNone_e1e-05_lr'.format(path, model_name)\n",
    "    file += '{}_n{}_d0.0_logalfa_{}_loglmda_{}_{}_online.csv'.format(*args)\n",
    "#     return file\n",
    "    return pd.read_csv(file)\n"
   ]
  },
  {
   "cell_type": "code",
   "execution_count": null,
   "metadata": {},
   "outputs": [],
   "source": [
    "get_data('SEM')"
   ]
  },
  {
   "cell_type": "code",
   "execution_count": null,
   "metadata": {},
   "outputs": [],
   "source": [
    "def plot_acc_by_time(model, condition):\n",
    "    df = get_data(model)\n",
    "    sns.relplot(data=df[df.Condition==condition],\n",
    "            x='t', y='Accuracy', kind='line', aspect=2, height=3)\n",
    "    plt.title(condition)\n",
    "    plt.xlabel('Story')\n",
    "    plt.ylim(0, 1.0)\n",
    "    plt.xlim(0, 200)\n",
    "    return plt.gcf()\n",
    "\n",
    "def plot_pe_by_time(model, condition):\n",
    "    df = get_data(model)\n",
    "    sns.relplot(data=df[df.Condition==condition],\n",
    "            x='t', y='pe', kind='line', aspect=2, height=3)\n",
    "    plt.title(condition)\n",
    "    plt.xlabel('Story')\n",
    "    plt.ylabel('Prediction Error')\n",
    "    plt.xlim(0, 200)\n",
    "    plt.ylim(0, 1)\n",
    "    return plt.gcf()"
   ]
  },
  {
   "cell_type": "code",
   "execution_count": null,
   "metadata": {},
   "outputs": [],
   "source": [
    "df = get_data(\"SEM\")\n",
    "sns.relplot(data=df, hue='Condition',\n",
    "        x='t', y='Accuracy', kind='line', aspect=2, height=3)\n",
    "plt.title('SEM')"
   ]
  },
  {
   "cell_type": "code",
   "execution_count": null,
   "metadata": {},
   "outputs": [],
   "source": [
    "df = get_data(\"LSTM\")\n",
    "sns.relplot(data=df, hue='Condition',\n",
    "        x='t', y='Accuracy', kind='line', aspect=2, height=3)\n",
    "plt.title('LSTM')"
   ]
  },
  {
   "cell_type": "code",
   "execution_count": null,
   "metadata": {},
   "outputs": [],
   "source": [
    "df = get_data(\"MLP\")\n",
    "sns.relplot(data=df, hue='Condition',\n",
    "        x='t', y='Accuracy', kind='line', aspect=2, height=3)\n",
    "plt.title('MLP')"
   ]
  },
  {
   "cell_type": "markdown",
   "metadata": {},
   "source": [
    "## Model fitting: Blocked/Interleaved Only"
   ]
  },
  {
   "cell_type": "code",
   "execution_count": null,
   "metadata": {},
   "outputs": [],
   "source": [
    "# Load files one at a time\n",
    "tXt_Loss_BIonly = []\n",
    "sim = 0\n",
    "files = glob(path + 'trial*csv')\n",
    "\n",
    "def get_error(file):\n",
    "\n",
    "    model_data = pd.read_csv(file)\n",
    "    model_grouped = model_data.groupby(['Condition', 't'])\n",
    "\n",
    "    \n",
    "    MSE = 0\n",
    "    KL = 0\n",
    "\n",
    "    for cond in ['Blocked', 'Interleaved']:\n",
    "        mu_model = model_grouped.mean().loc[cond]['Accuracy'].values\n",
    "        sd_model = model_grouped.std().loc[cond]['Accuracy'].values\n",
    "\n",
    "        mu_beh = trial_by_trial.loc[:, '{} Mean'.format(cond)].values\n",
    "        sd_beh = trial_by_trial.loc[:, '{} StdDev'.format(cond)].values\n",
    "\n",
    "        MSE += np.mean((mu_beh - mu_model) ** 2)\n",
    "        KL  += np.sum(kl_pq(mu_beh, mu_model, sd_beh, sd_model))\n",
    "\n",
    "    return {\n",
    "            'KL': MSE,\n",
    "            'MSE': KL,\n",
    "        }\n",
    "\n",
    "\n",
    "for file in tqdm(files):\n",
    "    \n",
    "    idx = file.find('nhidden') + 7\n",
    "    n_hidden = pull_from_start(file, idx)\n",
    "    if n_hidden == 'None':\n",
    "        n_hidden = 10\n",
    "    else:\n",
    "        n_hidden = int(pull_from_start(file, idx))\n",
    "    \n",
    "    # learning rate -- this we can't find a reliable end point beyond \n",
    "    # \"_\" charaecter\n",
    "    idx = file.find('_lr') + 3\n",
    "    lr = float(pull_from_start(file, idx))\n",
    "\n",
    "    # n_epochs\n",
    "    idx = file[idx:].find('_n') + idx + 2\n",
    "    n = int(pull_from_start(file, idx))\n",
    "\n",
    "    # dropout\n",
    "    idx = file[idx:].find('_d') + idx + 2\n",
    "    d = float(pull_from_start(file, idx))\n",
    "\n",
    "    # loglmda\n",
    "    idx = file.find('_loglmda') + 9\n",
    "    loglamda =float(pull_from_start(file, idx))\n",
    "\n",
    "    # logalpha\n",
    "    idx = file.find('_logalfa') + 9\n",
    "    idx2 = file.find('_loglmda')\n",
    "    logalpha = float(file[idx:idx2])       \n",
    "    \n",
    "    # epsilon\n",
    "    idx = file.find('_e') + 2\n",
    "    epsilon = float(pull_from_start(file, idx))\n",
    "\n",
    "    _tXt = get_error(file)\n",
    "    _tXt['lr'] = lr\n",
    "    _tXt['n_epochs'] = n\n",
    "    _tXt['dropout'] = d\n",
    "    _tXt['epsilon'] = epsilon\n",
    "    _tXt['loglamda'] = loglamda\n",
    "    _tXt['logalpha'] = logalpha\n",
    "    _tXt['sim'] = sim\n",
    "    _tXt['n_hidden'] = n_hidden\n",
    "    _tXt['model'] = get_model(file)\n",
    "\n",
    "    tXt_Loss_BIonly.append(_tXt)\n",
    "    sim += 1\n",
    "    \n",
    "#     break\n",
    "tXt_Loss_BIonly = pd.DataFrame(tXt_Loss_BIonly)\n",
    "tXt_Loss_BIonly.index = range(len(tXt_Loss_BIonly))\n",
    "\n",
    "\n"
   ]
  },
  {
   "cell_type": "code",
   "execution_count": null,
   "metadata": {},
   "outputs": [],
   "source": [
    "min_vals_BIonly = tXt_Loss_BIonly.groupby('model')['MSE'].min()\n",
    "min_vals_BIonly"
   ]
  },
  {
   "cell_type": "code",
   "execution_count": null,
   "metadata": {},
   "outputs": [],
   "source": [
    "\n",
    "def get_data(model, fits_df, metric='KL'):\n",
    "    \n",
    "    min_vals = fits_df.groupby('model')[metric].min()\n",
    "    theta = fits_df.loc[(fits_df.model == model) & (fits_df[metric] == min_vals[model])]\n",
    "    lr, n_epochs, logalpha, loglamda = \\\n",
    "        theta.loc[:, 'lr n_epochs logalpha loglamda'.split()].values[0]\n",
    "    print(lr, n_epochs, logalpha, loglamda)\n",
    "    \n",
    "    model_name = ['VanillaLSTM', 'MLP'][model == 'MLP']\n",
    "    no_split_tag = ['_nosplit', ''][model == 'SEM']\n",
    "    \n",
    "    args = [lr, int(n_epochs), float(logalpha), float(loglamda),no_split_tag]\n",
    "    \n",
    "    file = '{}trial_X_trial_{}_nhiddenNone_e1e-05_lr'.format(path, model_name)\n",
    "    file += '{}_n{}_d0.0_logalfa_{}_loglmda_{}_{}_online_instructed.csv'.format(*args)\n",
    "\n",
    "    return pd.read_csv(file)\n",
    "\n"
   ]
  },
  {
   "cell_type": "code",
   "execution_count": null,
   "metadata": {},
   "outputs": [],
   "source": [
    "df = get_data(\"MLP\", tXt_Loss_BIonly)\n",
    "sns.relplot(data=df, hue='Condition',\n",
    "        x='t', y='Accuracy', kind='line', aspect=2, height=3)\n",
    "plt.title('MLP')"
   ]
  },
  {
   "cell_type": "code",
   "execution_count": null,
   "metadata": {},
   "outputs": [],
   "source": [
    "df = get_data(\"SEM\", tXt_Loss_BIonly)\n",
    "sns.relplot(data=df, hue='Condition',\n",
    "        x='t', y='Accuracy', kind='line', aspect=2, height=3)\n",
    "plt.title('SEM')"
   ]
  },
  {
   "cell_type": "code",
   "execution_count": null,
   "metadata": {},
   "outputs": [],
   "source": [
    "df = get_data(\"LSTM\", tXt_Loss_BIonly)\n",
    "sns.relplot(data=df, hue='Condition',\n",
    "        x='t', y='Accuracy', kind='line', aspect=2, height=3)\n",
    "plt.title('LSTM')"
   ]
  },
  {
   "cell_type": "code",
   "execution_count": null,
   "metadata": {},
   "outputs": [],
   "source": []
  },
  {
   "cell_type": "code",
   "execution_count": null,
   "metadata": {},
   "outputs": [],
   "source": []
  }
 ],
 "metadata": {
  "colab": {
   "collapsed_sections": [
    "Fg0K8FUow9Dy",
    "J0shpNw-wRT2"
   ],
   "name": "AndreTask; 2/7/20.ipynb",
   "provenance": [],
   "toc_visible": true
  },
  "kernelspec": {
   "display_name": "Python 3",
   "language": "python",
   "name": "python3"
  },
  "language_info": {
   "codemirror_mode": {
    "name": "ipython",
    "version": 3
   },
   "file_extension": ".py",
   "mimetype": "text/x-python",
   "name": "python",
   "nbconvert_exporter": "python",
   "pygments_lexer": "ipython3",
   "version": "3.7.9"
  }
 },
 "nbformat": 4,
 "nbformat_minor": 4
}
