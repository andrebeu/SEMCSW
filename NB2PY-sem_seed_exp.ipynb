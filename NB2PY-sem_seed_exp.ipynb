{
 "cells": [
  {
   "cell_type": "code",
   "execution_count": 1,
   "metadata": {},
   "outputs": [],
   "source": [
    "import os\n",
    "import numpy as np\n",
    "import torch as tr\n",
    "\n",
    "from CSWSEM import *\n"
   ]
  },
  {
   "cell_type": "code",
   "execution_count": 2,
   "metadata": {},
   "outputs": [],
   "source": [
    "gs_name = 'absem'"
   ]
  },
  {
   "cell_type": "code",
   "execution_count": 7,
   "metadata": {},
   "outputs": [
    {
     "name": "stdout",
     "output_type": "stream",
     "text": [
      "nosplit_0__cond_interleaved__learnrate_0.050__alfa_10.00000__lmbda_1.00000__seed_97\n"
     ]
    }
   ],
   "source": [
    "import sys\n",
    "# sweep params\n",
    "condition = str('interleaved')\n",
    "nosplit = int(False)\n",
    "learn_rate = float(0.05)\n",
    "alfa = float(10)\n",
    "lmda = float(1)\n",
    "seed = int(97)\n",
    "\n",
    "model_tag = 'nosplit_%i__cond_%s__learnrate_%.3f__alfa_%.5f__lmbda_%.5f__seed_%i'%(\n",
    "  int(nosplit),condition,learn_rate,alfa,lmda,seed)\n",
    "print(model_tag)"
   ]
  },
  {
   "cell_type": "code",
   "execution_count": 4,
   "metadata": {},
   "outputs": [],
   "source": [
    "exp_kwargs={\n",
    "    'condition':condition,\n",
    "    'n_train':160,\n",
    "    'n_test':40\n",
    "}\n",
    "\n",
    "stsize = 25\n",
    "sem_kwargs={\n",
    "    'nosplit':nosplit,\n",
    "    'stsize':stsize,\n",
    "    'lmda':lmda,\n",
    "    'alfa':alfa,\n",
    "    'learn_rate':learn_rate,\n",
    "    'seed':seed,\n",
    "}\n",
    "\n",
    "task = CSWTask()\n",
    "sem = SEM(**sem_kwargs)\n"
   ]
  },
  {
   "cell_type": "code",
   "execution_count": 5,
   "metadata": {},
   "outputs": [],
   "source": [
    "exp = task.generate_experiment(**exp_kwargs)\n",
    "sem_data = sem.forward_exp(exp)"
   ]
  },
  {
   "cell_type": "code",
   "execution_count": 6,
   "metadata": {},
   "outputs": [],
   "source": [
    "import pandas as pd\n",
    "save_fpath = 'gsdata/%s/%s'%(gs_name,model_tag)\n",
    "pd.DataFrame(sem_data).to_csv(save_fpath)"
   ]
  },
  {
   "cell_type": "code",
   "execution_count": null,
   "metadata": {},
   "outputs": [],
   "source": []
  }
 ],
 "metadata": {
  "kernelspec": {
   "display_name": "Python 3",
   "language": "python",
   "name": "python3"
  },
  "language_info": {
   "codemirror_mode": {
    "name": "ipython",
    "version": 3
   },
   "file_extension": ".py",
   "mimetype": "text/x-python",
   "name": "python",
   "nbconvert_exporter": "python",
   "pygments_lexer": "ipython3",
   "version": "3.7.3"
  }
 },
 "nbformat": 4,
 "nbformat_minor": 4
}
