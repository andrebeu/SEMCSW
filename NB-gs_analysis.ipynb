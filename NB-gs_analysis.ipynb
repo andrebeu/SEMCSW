{
 "cells": [
  {
   "cell_type": "code",
   "execution_count": 1,
   "metadata": {},
   "outputs": [],
   "source": [
    "import os\n",
    "import numpy as np\n",
    "import torch as tr\n",
    "\n",
    "from CSWSEM import *\n",
    "from matplotlib import pyplot as plt"
   ]
  },
  {
   "cell_type": "code",
   "execution_count": 2,
   "metadata": {},
   "outputs": [],
   "source": [
    "gs_name = 'absem'"
   ]
  },
  {
   "cell_type": "markdown",
   "metadata": {},
   "source": [
    "todo\n",
    "- include training condition in gsdata\n",
    "- switch model tag from nosplit to SEM/LSTM"
   ]
  },
  {
   "cell_type": "code",
   "execution_count": 3,
   "metadata": {},
   "outputs": [],
   "source": [
    "from glob import glob as glob\n",
    "import pandas as pd\n",
    "\n",
    "def make_gsdf(gs_name):\n",
    "  gs_dir = \"gsdata/%s/\"%gs_name\n",
    "  fpathL = glob(gs_dir+'*')\n",
    "  seed_df_L = []\n",
    "  for fpath in fpathL:\n",
    "    condition = fpath.split('/')[-1].split('__')[1].split('_')[1]\n",
    "    seed_df = pd.read_csv(fpath)\n",
    "    seed_df.loc[:,'model'] = ['LSTM','SEM'][sum(seed_df.loc[:,'nosplit']==1)>0]\n",
    "    seed_df.loc[:,'condition'] = condition\n",
    "    seed_df_L.append(seed_df)\n",
    "  gsdf = pd.concat(seed_df_L)\n",
    "  gsdf.index = np.arange(len(gsdf))\n",
    "  gsdf.drop(columns=['Unnamed: 0','like','prior'])\n",
    "  return gsdf"
   ]
  },
  {
   "cell_type": "code",
   "execution_count": 4,
   "metadata": {},
   "outputs": [],
   "source": [
    "gsdf = make_gsdf(gs_name)"
   ]
  },
  {
   "cell_type": "code",
   "execution_count": 5,
   "metadata": {
    "scrolled": true
   },
   "outputs": [
    {
     "name": "stdout",
     "output_type": "stream",
     "text": [
      "SEM 0.005-0.1-0.1 blocked\n",
      "SEM 0.005-0.1-0.1 interleaved\n",
      "SEM 0.005-0.1-1.0 blocked\n",
      "SEM 0.005-0.1-1.0 interleaved\n",
      "SEM 0.005-0.1-10.0 blocked\n",
      "SEM 0.005-0.1-10.0 interleaved\n",
      "SEM 0.005-1.0-0.1 blocked\n",
      "SEM 0.005-1.0-0.1 interleaved\n",
      "SEM 0.005-1.0-1.0 blocked\n",
      "SEM 0.005-1.0-1.0 interleaved\n",
      "SEM 0.005-1.0-10.0 blocked\n",
      "SEM 0.005-1.0-10.0 interleaved\n",
      "SEM 0.005-10.0-0.1 blocked\n",
      "SEM 0.005-10.0-0.1 interleaved\n",
      "SEM 0.005-10.0-1.0 blocked\n",
      "SEM 0.005-10.0-1.0 interleaved\n",
      "SEM 0.005-10.0-10.0 blocked\n",
      "SEM 0.005-10.0-10.0 interleaved\n",
      "SEM 0.01-0.1-0.1 blocked\n",
      "SEM 0.01-0.1-0.1 interleaved\n",
      "SEM 0.01-0.1-1.0 blocked\n",
      "SEM 0.01-0.1-1.0 interleaved\n",
      "SEM 0.01-0.1-10.0 blocked\n",
      "SEM 0.01-0.1-10.0 interleaved\n",
      "SEM 0.01-1.0-0.1 blocked\n",
      "SEM 0.01-1.0-0.1 interleaved\n",
      "SEM 0.01-1.0-1.0 blocked\n",
      "SEM 0.01-1.0-1.0 interleaved\n",
      "SEM 0.01-1.0-10.0 blocked\n",
      "SEM 0.01-1.0-10.0 interleaved\n",
      "SEM 0.01-10.0-0.1 blocked\n",
      "SEM 0.01-10.0-0.1 interleaved\n",
      "SEM 0.01-10.0-1.0 blocked\n",
      "SEM 0.01-10.0-1.0 interleaved\n",
      "SEM 0.01-10.0-10.0 blocked\n",
      "SEM 0.01-10.0-10.0 interleaved\n",
      "SEM 0.05-0.1-0.1 blocked\n",
      "SEM 0.05-0.1-0.1 interleaved\n",
      "SEM 0.05-0.1-1.0 blocked\n",
      "SEM 0.05-0.1-1.0 interleaved\n",
      "SEM 0.05-0.1-10.0 blocked\n",
      "SEM 0.05-0.1-10.0 interleaved\n",
      "SEM 0.05-1.0-0.1 blocked\n",
      "SEM 0.05-1.0-0.1 interleaved\n",
      "SEM 0.05-1.0-1.0 blocked\n",
      "SEM 0.05-1.0-1.0 interleaved\n",
      "SEM 0.05-1.0-10.0 blocked\n",
      "SEM 0.05-1.0-10.0 interleaved\n",
      "SEM 0.05-10.0-0.1 blocked\n",
      "SEM 0.05-10.0-0.1 interleaved\n",
      "SEM 0.05-10.0-1.0 blocked\n",
      "SEM 0.05-10.0-1.0 interleaved\n",
      "SEM 0.05-10.0-10.0 blocked\n",
      "SEM 0.05-10.0-10.0 interleaved\n",
      "SEM 0.1-0.1-0.1 blocked\n",
      "SEM 0.1-0.1-0.1 interleaved\n",
      "SEM 0.1-0.1-1.0 blocked\n",
      "SEM 0.1-0.1-1.0 interleaved\n",
      "SEM 0.1-0.1-10.0 blocked\n",
      "SEM 0.1-0.1-10.0 interleaved\n",
      "SEM 0.1-1.0-0.1 blocked\n",
      "SEM 0.1-1.0-0.1 interleaved\n",
      "SEM 0.1-1.0-1.0 blocked\n",
      "SEM 0.1-1.0-1.0 interleaved\n",
      "SEM 0.1-1.0-10.0 blocked\n",
      "SEM 0.1-1.0-10.0 interleaved\n",
      "SEM 0.1-10.0-0.1 blocked\n",
      "SEM 0.1-10.0-0.1 interleaved\n",
      "SEM 0.1-10.0-1.0 blocked\n",
      "SEM 0.1-10.0-1.0 interleaved\n",
      "SEM 0.1-10.0-10.0 blocked\n",
      "SEM 0.1-10.0-10.0 interleaved\n",
      "LSTM 0.005-0.0-0.0 blocked\n",
      "LSTM 0.005-99.0-99.0 blocked\n",
      "LSTM 0.005-99.0-99.0 interleaved\n",
      "LSTM 0.01-99.0-99.0 blocked\n",
      "LSTM 0.01-99.0-99.0 interleaved\n",
      "LSTM 0.05-99.0-99.0 blocked\n",
      "LSTM 0.05-99.0-99.0 interleaved\n",
      "LSTM 0.1-99.0-99.0 blocked\n",
      "LSTM 0.1-99.0-99.0 interleaved\n"
     ]
    }
   ],
   "source": [
    "def build_datadict(gsdf,metric='loss',verb=True):\n",
    "  \"\"\" D[model][param_str][cond] = [seed,time]\n",
    "  \"\"\"\n",
    "  dataD = {\n",
    "    'LSTM':{},\n",
    "    'SEM':{},\n",
    "       }\n",
    "  for nosplit,m_df in gsdf.groupby(['nosplit']):  \n",
    "    if nosplit: model='LSTM'\n",
    "    else: model='SEM'\n",
    "    for p,p_df in m_df.groupby(['learn_rate','alfa','lmda']):\n",
    "      param_str = \"-\".join([str(p_i) for p_i in p])\n",
    "      dataD[model][param_str] = {}\n",
    "      for c,c_df in p_df.groupby('condition'):\n",
    "        cond=c\n",
    "        if verb: print(model,param_str,cond)\n",
    "        sgroup = c_df.groupby('seed')\n",
    "        seed_arr = -np.ones([len(sgroup),200])\n",
    "        for s_idx,(s,s_df) in enumerate(sgroup):\n",
    "          seed_arr[s_idx] = s_df.loc[:,metric]\n",
    "        dataD[model][param_str][cond] = seed_arr\n",
    "\n",
    "  return dataD\n",
    "\n",
    "dataD = build_datadict(gsdf)"
   ]
  },
  {
   "cell_type": "code",
   "execution_count": 6,
   "metadata": {},
   "outputs": [
    {
     "data": {
      "text/plain": [
       "dict_keys(['0.005-0.1-0.1', '0.005-0.1-1.0', '0.005-0.1-10.0', '0.005-1.0-0.1', '0.005-1.0-1.0', '0.005-1.0-10.0', '0.005-10.0-0.1', '0.005-10.0-1.0', '0.005-10.0-10.0', '0.01-0.1-0.1', '0.01-0.1-1.0', '0.01-0.1-10.0', '0.01-1.0-0.1', '0.01-1.0-1.0', '0.01-1.0-10.0', '0.01-10.0-0.1', '0.01-10.0-1.0', '0.01-10.0-10.0', '0.05-0.1-0.1', '0.05-0.1-1.0', '0.05-0.1-10.0', '0.05-1.0-0.1', '0.05-1.0-1.0', '0.05-1.0-10.0', '0.05-10.0-0.1', '0.05-10.0-1.0', '0.05-10.0-10.0', '0.1-0.1-0.1', '0.1-0.1-1.0', '0.1-0.1-10.0', '0.1-1.0-0.1', '0.1-1.0-1.0', '0.1-1.0-10.0', '0.1-10.0-0.1', '0.1-10.0-1.0', '0.1-10.0-10.0'])"
      ]
     },
     "execution_count": 6,
     "metadata": {},
     "output_type": "execute_result"
    }
   ],
   "source": [
    "# param\n",
    "dataD['SEM'].keys()"
   ]
  },
  {
   "cell_type": "code",
   "execution_count": 9,
   "metadata": {},
   "outputs": [],
   "source": [
    "plt.fill_between?"
   ]
  },
  {
   "cell_type": "code",
   "execution_count": 24,
   "metadata": {},
   "outputs": [],
   "source": [
    "def plt_loss_(ax,loss_arr,tag=None):\n",
    "  Nseeds,_ = loss_arr.shape\n",
    "  acc_arr = 1-loss_arr\n",
    "  for acc_seed in acc_arr:\n",
    "    ax.plot(acc_seed,lw=.05,c='k')\n",
    "  M = acc_arr.mean(0)\n",
    "  S = acc_arr.std(0)/np.sqrt(Nseeds)\n",
    "  ax.fill_between(range(200),M-S,M+S,alpha=.5,c='b')\n",
    "  ax.plot(M,lw=3,c='b')\n",
    "  ax.set_ylim(0.2,1)\n",
    "  return None\n",
    "\n",
    "def plt_loss(loss_dict,title):\n",
    "  f,ax = plt.subplots(2,1,figsize=(8,4))\n",
    "  for idx,(cond,arr) in enumerate(loss_dict.items()):\n",
    "    plt_loss_(ax[idx],arr)\n",
    "  plt.savefig('figures/gs-%s/acc-%s.png'%(gs_name,title))\n",
    "  plt.close('all')"
   ]
  },
  {
   "cell_type": "code",
   "execution_count": 25,
   "metadata": {
    "scrolled": true
   },
   "outputs": [],
   "source": [
    "for model,param_dict in dataD.items():\n",
    "  for param_str,cond_dict in param_dict.items():\n",
    "    title = \"%s-%s\"%(model,param_str)\n",
    "    plt_loss(cond_dict,title)\n"
   ]
  },
  {
   "cell_type": "markdown",
   "metadata": {},
   "source": [
    "# ploi"
   ]
  },
  {
   "cell_type": "markdown",
   "metadata": {},
   "source": [
    "# import human data - model fits"
   ]
  },
  {
   "cell_type": "code",
   "execution_count": null,
   "metadata": {},
   "outputs": [],
   "source": []
  }
 ],
 "metadata": {
  "kernelspec": {
   "display_name": "Python 3",
   "language": "python",
   "name": "python3"
  },
  "language_info": {
   "codemirror_mode": {
    "name": "ipython",
    "version": 3
   },
   "file_extension": ".py",
   "mimetype": "text/x-python",
   "name": "python",
   "nbconvert_exporter": "python",
   "pygments_lexer": "ipython3",
   "version": "3.7.9"
  }
 },
 "nbformat": 4,
 "nbformat_minor": 4
}
