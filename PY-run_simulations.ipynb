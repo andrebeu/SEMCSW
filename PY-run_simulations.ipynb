{
 "cells": [
  {
   "cell_type": "markdown",
   "metadata": {
    "colab_type": "text",
    "id": "NQ9KSajiwUpk"
   },
   "source": [
    "This script runs one param_set. Outputs results{}.csv and trialxtrial{}.csv"
   ]
  },
  {
   "cell_type": "code",
   "execution_count": 1,
   "metadata": {},
   "outputs": [
    {
     "name": "stdout",
     "output_type": "stream",
     "text": [
      "Python version\n",
      "3.7.9 (default, Aug 31 2020, 07:22:35) \n",
      "[Clang 10.0.0 ]\n"
     ]
    }
   ],
   "source": [
    "import sys\n",
    "print(\"Python version\")\n",
    "print (sys.version)\n",
    "\n",
    "%matplotlib inline\n",
    "import numpy as np\n",
    "import matplotlib.pyplot as plt\n",
    "import tensorflow as tf\n",
    "import seaborn as sns\n",
    "from tqdm import tqdm\n",
    "from sklearn import metrics\n",
    "import pandas as pd\n",
    "\n",
    "from sklearn.metrics import adjusted_rand_score\n",
    "from sklearn.preprocessing import normalize\n",
    "from sklearn.linear_model import LogisticRegression\n",
    "from scipy.special import logsumexp\n",
    "from scipy.stats import norm\n",
    "from glob import glob"
   ]
  },
  {
   "cell_type": "code",
   "execution_count": 2,
   "metadata": {},
   "outputs": [
    {
     "name": "stdout",
     "output_type": "stream",
     "text": [
      "TensorFlow Version: 2.3.1\n"
     ]
    }
   ],
   "source": [
    "from schema_prediction_task_9_8_20 import generate_exp, batch_exp\n",
    "from vanilla_lstm import VanillaLSTM\n",
    "from sem.event_models import NonLinearEvent"
   ]
  },
  {
   "cell_type": "markdown",
   "metadata": {},
   "source": [
    "# Script parameters"
   ]
  },
  {
   "cell_type": "markdown",
   "metadata": {},
   "source": [
    "### gridsearch params "
   ]
  },
  {
   "cell_type": "code",
   "execution_count": 3,
   "metadata": {},
   "outputs": [],
   "source": [
    "# parameter search over lr, n_epochs, alpha, lambda\n",
    "model_type        = 'SEM'\n",
    "lr                = 0.05\n",
    "n_epochs          = 2    # what does this control?\n",
    "log_alpha         = 0.0  # sCRP alpha is set in log scale\n",
    "log_lambda        = 0.0  # sCRP lambda is set in log scale"
   ]
  },
  {
   "cell_type": "code",
   "execution_count": 4,
   "metadata": {},
   "outputs": [],
   "source": [
    "# toggle between SEM (False) and LSTM (True)\n",
    "if model_type == 'SEM':\n",
    "  no_split=False\n",
    "elif model_type == 'LSTM':\n",
    "  no_split=True"
   ]
  },
  {
   "cell_type": "markdown",
   "metadata": {},
   "source": [
    "### embedding params"
   ]
  },
  {
   "cell_type": "code",
   "execution_count": 5,
   "metadata": {},
   "outputs": [],
   "source": [
    "# actor_weight & instructions_weight control instruction condition\n",
    "story_kwargs = dict(seed=None, err=0.2, actor_weight=1.0, instructions_weight=0.0)\n",
    "\n",
    "## to inspect embeddings, use:\n",
    "# x, y, e, embedding_library = generate_exp('blocked', **story_kwargs)"
   ]
  },
  {
   "cell_type": "markdown",
   "metadata": {},
   "source": [
    "### SEM configuration"
   ]
  },
  {
   "cell_type": "code",
   "execution_count": 6,
   "metadata": {},
   "outputs": [],
   "source": [
    "optimizer_kwargs = dict(\n",
    "    lr=lr, beta_1=0.9, beta_2=0.999, epsilon=1e-5, amsgrad=False\n",
    ") \n",
    "\n",
    "f_opts=dict(\n",
    "  batch_size=25, \n",
    "  batch_update=False, \n",
    "  dropout=0.0,\n",
    "  l2_regularization=0.0, \n",
    "  n_epochs=n_epochs,\n",
    "    optimizer_kwargs=optimizer_kwargs\n",
    ")\n",
    "\n",
    "f_class = VanillaLSTM # event model class\n",
    "\n",
    "# final param dict\n",
    "sem_kwargs = dict(\n",
    "  lmda=np.exp(log_lambda), \n",
    "  alfa=np.exp(log_alpha), \n",
    "  f_opts=f_opts, \n",
    "  f_class=f_class\n",
    ")\n"
   ]
  },
  {
   "cell_type": "markdown",
   "metadata": {},
   "source": [
    "# Run model\n",
    "\n",
    "main fun call"
   ]
  },
  {
   "cell_type": "code",
   "execution_count": 7,
   "metadata": {},
   "outputs": [],
   "source": [
    "\"\"\" condition params: improve \"\"\"\n",
    "\n",
    "block_only=True \n",
    "run_instructed=False "
   ]
  },
  {
   "cell_type": "code",
   "execution_count": 15,
   "metadata": {},
   "outputs": [
    {
     "name": "stdout",
     "output_type": "stream",
     "text": [
      "n_batch 1\n"
     ]
    },
    {
     "name": "stderr",
     "output_type": "stream",
     "text": [
      "Run SEM: 100%|██████████| 200/200 [01:26<00:00,  2.32it/s]\n"
     ]
    }
   ],
   "source": [
    "\"\"\" \n",
    "batch_exp main fun call\n",
    "\"\"\"\n",
    "\n",
    "n_batch = 1 # remove or debug param?\n",
    "print('n_batch',n_batch)\n",
    "results, trialXtrial, _ = batch_exp(\n",
    "              sem_kwargs, story_kwargs, no_split=no_split, \n",
    "              block_only=block_only, run_instructed=run_instructed, \n",
    "              sem_progress_bar=True, progress_bar=False,\n",
    "              n_batch=n_batch, \n",
    ")\n"
   ]
  },
  {
   "cell_type": "code",
   "execution_count": null,
   "metadata": {},
   "outputs": [],
   "source": [
    "# convert from JSON file format (dict) to pandas df\n",
    "results = pd.DataFrame(results)\n",
    "trialXtrial = pd.DataFrame(trialXtrial)"
   ]
  },
  {
   "cell_type": "markdown",
   "metadata": {
    "colab_type": "text",
    "id": "OAOkKQ5O8j7f"
   },
   "source": [
    "# save\n"
   ]
  },
  {
   "cell_type": "code",
   "execution_count": 9,
   "metadata": {},
   "outputs": [
    {
     "data": {
      "text/plain": [
       "(     Trials  adjRand  nClusters        pe  pe (probes)  verb decoder Accuracy  \\\n",
       " 0       All      0.0          1  0.566003     0.581288               0.107500   \n",
       " 1  Training      0.0          1  0.564398     0.580805               0.115625   \n",
       " 2      Test      0.0          1  0.572425     0.583218               0.075000   \n",
       " \n",
       "    verb decoder Accuracy Prob  verb 2 AFC decoder Prob  batch Condition  \\\n",
       " 0                    0.117275                 0.496754      0   Blocked   \n",
       " 1                    0.124738                 0.500790      0   Blocked   \n",
       " 2                    0.087423                 0.480609      0   Blocked   \n",
       " \n",
       "    cluster re-use  \n",
       " 0             NaN  \n",
       " 1             NaN  \n",
       " 2             1.0  ,\n",
       "        t  e_hat  Accuracy        pe  batch Condition\n",
       " 0      0      0  0.491652  0.619152      0   Blocked\n",
       " 1      1      0  0.163109  0.532164      0   Blocked\n",
       " 2      2      0  0.294964  0.717002      0   Blocked\n",
       " 3      3      0  0.454531  0.613671      0   Blocked\n",
       " 4      4      0  0.428602  0.643967      0   Blocked\n",
       " ..   ...    ...       ...       ...    ...       ...\n",
       " 195  195      0  0.291911  0.578051      0   Blocked\n",
       " 196  196      0  0.563588  0.667875      0   Blocked\n",
       " 197  197      0  0.111822  0.822531      0   Blocked\n",
       " 198  198      0  0.522030  0.444441      0   Blocked\n",
       " 199  199      0  0.586195  0.755779      0   Blocked\n",
       " \n",
       " [200 rows x 6 columns])"
      ]
     },
     "execution_count": 9,
     "metadata": {},
     "output_type": "execute_result"
    }
   ],
   "source": [
    "save_fpath = None\n",
    "results,trialXtrial"
   ]
  },
  {
   "cell_type": "code",
   "execution_count": 16,
   "metadata": {},
   "outputs": [
    {
     "name": "stdout",
     "output_type": "stream",
     "text": [
      "LSTM-lr-0.050-nepchs-2-alpha-0.000-lambda-0.000\n"
     ]
    }
   ],
   "source": [
    "\n",
    "model_tag = \"%s-lr-%.3f-nepchs-%i-alpha-%.3f-lambda-%.3f\"%(\n",
    "  model_type,lr,n_epochs,log_alpha,log_lambda\n",
    ")\n",
    "print(model_tag)\n"
   ]
  },
  {
   "cell_type": "code",
   "execution_count": 13,
   "metadata": {},
   "outputs": [],
   "source": [
    "results_fpath = \"results_\" + model_tag + '.csv'\n",
    "trial_fpath = \"trial_X_trial_\" + model_tag + '.csv'\n",
    "\n",
    "save_dir = ''"
   ]
  }
 ],
 "metadata": {
  "colab": {
   "collapsed_sections": [
    "Fg0K8FUow9Dy",
    "J0shpNw-wRT2"
   ],
   "name": "AndreTask; 2/7/20.ipynb",
   "provenance": [],
   "toc_visible": true
  },
  "kernelspec": {
   "display_name": "Python 3",
   "language": "python",
   "name": "python3"
  },
  "language_info": {
   "codemirror_mode": {
    "name": "ipython",
    "version": 3
   },
   "file_extension": ".py",
   "mimetype": "text/x-python",
   "name": "python",
   "nbconvert_exporter": "python",
   "pygments_lexer": "ipython3",
   "version": "3.7.9"
  }
 },
 "nbformat": 4,
 "nbformat_minor": 1
}
