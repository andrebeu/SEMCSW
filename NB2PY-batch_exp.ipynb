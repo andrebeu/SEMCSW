{
 "cells": [
  {
   "cell_type": "code",
   "execution_count": 1,
   "metadata": {},
   "outputs": [
    {
     "name": "stdout",
     "output_type": "stream",
     "text": [
      "TensorFlow Version: 2.3.1\n"
     ]
    }
   ],
   "source": [
    "import sys\n",
    "import numpy as np\n",
    "import matplotlib.pyplot as plt\n",
    "import tensorflow as tf\n",
    "import seaborn as sns\n",
    "from tqdm import tqdm\n",
    "from sklearn import metrics\n",
    "import pandas as pd\n",
    "\n",
    "from sklearn.metrics import adjusted_rand_score\n",
    "from sklearn.preprocessing import normalize\n",
    "from sklearn.linear_model import LogisticRegression\n",
    "from scipy.special import logsumexp\n",
    "from scipy.stats import norm\n",
    "from glob import glob\n",
    "\n",
    "from CSWSEM import generate_exp, seed_exp\n",
    "from vanilla_lstm import VanillaLSTM\n",
    "from sem.event_models import NonLinearEvent"
   ]
  },
  {
   "cell_type": "markdown",
   "metadata": {},
   "source": [
    "### gridsearch setup - params and model tag"
   ]
  },
  {
   "cell_type": "code",
   "execution_count": 2,
   "metadata": {},
   "outputs": [],
   "source": [
    "# gs params\n",
    "model_type        = str('SEM')\n",
    "lr                = float(0.005)\n",
    "n_epochs          = int(16)    \n",
    "log_alpha         = float(0.0)  \n",
    "log_lambda        = float(0.0)  \n",
    "seed              = int(99)\n",
    "condition         = 'blocked'"
   ]
  },
  {
   "cell_type": "code",
   "execution_count": 3,
   "metadata": {},
   "outputs": [],
   "source": [
    "n_train = 160\n",
    "n_test = 40"
   ]
  },
  {
   "cell_type": "code",
   "execution_count": 4,
   "metadata": {},
   "outputs": [
    {
     "name": "stdout",
     "output_type": "stream",
     "text": [
      "\n",
      "\n",
      " -- BEGIN SEM_cond_blocked_lr_0.005_nepchs_16_alpha_0.000-lambda_0.000_seed_99\n"
     ]
    }
   ],
   "source": [
    "gs_name = 'sem1'\n",
    "model_tag = \"%s_cond_%s_lr_%.3f_nepchs_%i_alpha_%.3f-lambda_%.3f_seed_%i\"%(\n",
    "  model_type,condition,lr,n_epochs,log_alpha,log_lambda,seed\n",
    ")\n",
    "print('\\n\\n -- BEGIN',model_tag)"
   ]
  },
  {
   "cell_type": "markdown",
   "metadata": {},
   "source": [
    "### SEM configuration"
   ]
  },
  {
   "cell_type": "code",
   "execution_count": 5,
   "metadata": {},
   "outputs": [],
   "source": [
    "optimizer_kwargs = dict(\n",
    "    lr=lr, \n",
    "    beta_1=0.9, \n",
    "    beta_2=0.999, \n",
    "    epsilon=1e-5, \n",
    "    amsgrad=False\n",
    ") \n",
    "\n",
    "f_opts=dict(\n",
    "  batch_size=25, \n",
    "  batch_update=False, \n",
    "  dropout=0.0,\n",
    "  l2_regularization=0.0, \n",
    "  n_epochs=n_epochs,\n",
    "  optimizer_kwargs=optimizer_kwargs\n",
    ")\n",
    "\n",
    "sem_kwargs = dict(\n",
    "  lmda=np.exp(log_lambda), \n",
    "  alfa=np.exp(log_alpha), \n",
    "  f_opts=f_opts, \n",
    "  f_class=VanillaLSTM\n",
    ")\n"
   ]
  },
  {
   "cell_type": "markdown",
   "metadata": {},
   "source": [
    "# Run model\n",
    "\n",
    "main fun call"
   ]
  },
  {
   "cell_type": "code",
   "execution_count": 6,
   "metadata": {},
   "outputs": [
    {
     "name": "stdout",
     "output_type": "stream",
     "text": [
      "seed 99 condition blocked\n"
     ]
    }
   ],
   "source": [
    "results, trialXtrial, _ = seed_exp( \n",
    "              sem_kwargs, model_type=model_type, \n",
    "              n_train=n_train, n_test=n_test,\n",
    "              condition=condition,seed=seed,\n",
    ")"
   ]
  },
  {
   "cell_type": "markdown",
   "metadata": {},
   "source": [
    "# save"
   ]
  },
  {
   "cell_type": "code",
   "execution_count": null,
   "metadata": {},
   "outputs": [],
   "source": [
    "save_dir = 'gsdata/%s/'%gs_name"
   ]
  },
  {
   "cell_type": "code",
   "execution_count": 7,
   "metadata": {},
   "outputs": [],
   "source": [
    "results_fpath = save_dir + \"results_\" + model_tag + '.csv'\n",
    "trial_fpath = save_dir + \"trial_X_trial_\" + model_tag + '.csv'\n",
    "\n",
    "# JSON to pandas df for saving\n",
    "results = pd.DataFrame(results)\n",
    "trialXtrial = pd.DataFrame(trialXtrial)\n",
    "\n",
    "results.to_csv(results_fpath)\n",
    "trialXtrial.to_csv(trial_fpath)"
   ]
  },
  {
   "cell_type": "code",
   "execution_count": 8,
   "metadata": {},
   "outputs": [
    {
     "name": "stdout",
     "output_type": "stream",
     "text": [
      "\n",
      "\n",
      " -- FINISH SEM_cond_blocked_lr_0.005_nepchs_16_alpha_0.000-lambda_0.000_seed_99\n"
     ]
    }
   ],
   "source": [
    "print('\\n\\n -- FINISH',model_tag)"
   ]
  }
 ],
 "metadata": {
  "colab": {
   "collapsed_sections": [
    "Fg0K8FUow9Dy",
    "J0shpNw-wRT2"
   ],
   "name": "AndreTask; 2/7/20.ipynb",
   "provenance": [],
   "toc_visible": true
  },
  "kernelspec": {
   "display_name": "Python 3",
   "language": "python",
   "name": "python3"
  },
  "language_info": {
   "codemirror_mode": {
    "name": "ipython",
    "version": 3
   },
   "file_extension": ".py",
   "mimetype": "text/x-python",
   "name": "python",
   "nbconvert_exporter": "python",
   "pygments_lexer": "ipython3",
   "version": "3.7.9"
  }
 },
 "nbformat": 4,
 "nbformat_minor": 1
}
