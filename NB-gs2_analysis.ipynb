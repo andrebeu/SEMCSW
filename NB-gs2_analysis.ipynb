{
 "cells": [
  {
   "cell_type": "code",
   "execution_count": 1,
   "metadata": {},
   "outputs": [],
   "source": [
    "import os\n",
    "import numpy as np\n",
    "import torch as tr\n",
    "\n",
    "from glob import glob as glob\n",
    "import pandas as pd\n",
    "\n",
    "from CSWSEM import *\n",
    "\n",
    "from matplotlib import pyplot as plt\n",
    "import seaborn as sns\n",
    "sns.set_context('talk')"
   ]
  },
  {
   "cell_type": "markdown",
   "metadata": {},
   "source": [
    "### load gridsearch files"
   ]
  },
  {
   "cell_type": "code",
   "execution_count": 2,
   "metadata": {},
   "outputs": [],
   "source": [
    "hdf = pd.read_csv('gsdata/humandf.csv')\n",
    "humanB = hdf.loc[:,'blocked mean']\n",
    "humanI = hdf.loc[:,'interleaved mean']"
   ]
  },
  {
   "cell_type": "code",
   "execution_count": 3,
   "metadata": {},
   "outputs": [],
   "source": [
    "gsname = 'gs2'\n",
    "lrL = [0.01, 0.05, 0.1]\n",
    "alfaL = [0.01, 0.1, 1, 10, 100, 1000, 10000, 100000]\n",
    "lmdaL = [0.01, 0.1, 1, 10, 100, 1000, 10000, 100000]"
   ]
  },
  {
   "cell_type": "code",
   "execution_count": 19,
   "metadata": {},
   "outputs": [],
   "source": [
    "\"\"\" load gridsearch files\n",
    "\"\"\"\n",
    "def make_gsdf(gsname,save=False,debug=False):\n",
    "  gs_dir = \"gsdata/%s/\"%gsname\n",
    "  fpathL = glob(gs_dir+'*')\n",
    "  df_L = []\n",
    "  ### initialize gsdf\n",
    "  if debug: fpathL = fpathL[:20]\n",
    "  for fpath in fpathL:\n",
    "    batch_df = pd.read_csv(fpath)\n",
    "    df_L.append(batch_df)\n",
    "  gsdf = pd.concat(df_L)\n",
    "  ### gsdf manipulations\n",
    "  gsdf.index = np.arange(len(gsdf))\n",
    "  gsdf = gsdf.drop(columns=['Unnamed: 0','like','prior'])\n",
    "  gsdf.loc[:,'accuracy'] = 1-gsdf.loc[:,'loss']\n",
    "  gsdf.loc[(gsdf.trial>=160),'phase'] = 'test'\n",
    "  gsdf.loc[(gsdf.trial<160),'phase'] = 'train'\n",
    "  gsdf.loc[:,'period'] = gsdf.trial//40\n",
    "  if save:\n",
    "    gsdf.to_csv('gsdata/%s.csv'%gsname)\n",
    "    print('saved %s.csv'%gsname)\n",
    "  return gsdf"
   ]
  },
  {
   "cell_type": "code",
   "execution_count": 20,
   "metadata": {},
   "outputs": [
    {
     "name": "stdout",
     "output_type": "stream",
     "text": [
      "saved gs2.csv\n",
      "max delta_time 66.4222927093506\n"
     ]
    }
   ],
   "source": [
    "## load\n",
    "debug = 0 # debug\n",
    "if debug:\n",
    "  gsdf = make_gsdf(gsname,save=0,debug=debug)\n",
    "else:\n",
    "#   gsdf = make_gsdf(gsname,save=1,debug=0)\n",
    "  gsdf = pd.read_csv('gsdata/%s.csv'%gsname)\n",
    "print('max delta_time',gsdf.delta_time.max())"
   ]
  },
  {
   "cell_type": "markdown",
   "metadata": {},
   "source": [
    "### structure data for analyis"
   ]
  },
  {
   "cell_type": "code",
   "execution_count": 41,
   "metadata": {},
   "outputs": [],
   "source": [
    "def build_dataD(gsdf,metric='accuracy',verb=True):\n",
    "  \"\"\" [seed,time] per model_param and condition (mp,c)\n",
    "  extracts and reformats a column of gsdf\n",
    "  D[model+param_str][cond] = [seed,time]\n",
    "  \"\"\"\n",
    "  paramL = ['learn_rate','alfa','lmda']\n",
    "  dataD = {}\n",
    "  ntrials = (gsdf.trial.max() - gsdf.trial.min()) + 1\n",
    "  for nosplit,m_df in gsdf.groupby(['nosplit']):  \n",
    "    if nosplit: model='LSTM'\n",
    "    else: model='SEM'\n",
    "    for p,p_df in m_df.groupby(paramL):\n",
    "      param_str = \"-\".join([str(p_i) for p_i in p])\n",
    "      dataD_key = \"%s-%s\"%(model,param_str)\n",
    "      dataD[dataD_key] = {}\n",
    "      for cond,c_df in p_df.groupby('condition'):\n",
    "        if verb: print(model,param_str,cond)\n",
    "        sgroup = c_df.groupby('seed')\n",
    "        seed_arr = -np.ones([len(sgroup),ntrials])\n",
    "        for s_idx,(s,s_df) in enumerate(sgroup):\n",
    "          seed_arr[s_idx] = s_df.loc[:,metric]\n",
    "        dataD[dataD_key][cond] = seed_arr\n",
    "  return dataD\n",
    "\n",
    "\n",
    "from sklearn.metrics import adjusted_rand_score\n",
    "def build_summary_df(gsdf):\n",
    "  \"\"\" metrics on model-param (mp) level\n",
    "  \"\"\"\n",
    "  accD = build_dataD(gsdf,metric='accuracy',verb=0)\n",
    "  schD = build_dataD(gsdf,metric='active_schema',verb=0)\n",
    "  curD = build_dataD(gsdf,metric='curriculum',verb=0)\n",
    "  assert accD.keys()==schD.keys()==curD.keys()\n",
    "\n",
    "  L = []\n",
    "  for param_str in accD.keys():\n",
    "    mod,lr,alfa,lmda = param_str.split('-')\n",
    "    for cond in ['blocked','interleaved']:\n",
    "      acc_ar = accD[param_str][cond]\n",
    "      sch_ar = schD[param_str][cond].astype(int)\n",
    "      cur_ar = curD[param_str][cond].astype(int)\n",
    "      ## mse\n",
    "      semM = acc_ar.mean(0)\n",
    "      if len(semM)==40: # test phase only\n",
    "        t0=160\n",
    "      else: t0=0\n",
    "      humanM = hdf.loc[t0:,'%s mean'%cond]\n",
    "      mse = np.mean((semM-humanM)**2)\n",
    "      ## adjusted rand\n",
    "      # calculate AR for each seed\n",
    "      # mean over seeds\n",
    "      ar = np.mean([\n",
    "        adjusted_rand_score(cur_ar[i],sch_ar[i]\n",
    "          ) for i in range(len(cur_ar))]\n",
    "      )\n",
    "      # num schemas\n",
    "      num_schemas = np.mean(sch_ar.max(1))\n",
    "      ## collect\n",
    "      L.append({\n",
    "        'model':mod,\n",
    "        'cond':cond,\n",
    "        'lr':float(lr),\n",
    "        'alfa':float(alfa),\n",
    "        'lmda':float(lmda),\n",
    "        'mse':float(mse),\n",
    "        'carving':float(ar),\n",
    "        'num_schemas':num_schemas,\n",
    "        'test_acc':np.mean(semM[-40:])\n",
    "      })\n",
    "  return pd.DataFrame(L)    \n"
   ]
  },
  {
   "cell_type": "code",
   "execution_count": 42,
   "metadata": {},
   "outputs": [],
   "source": [
    "smdf = build_summary_df(gsdf)"
   ]
  },
  {
   "cell_type": "code",
   "execution_count": 100,
   "metadata": {},
   "outputs": [],
   "source": [
    "for mod in ['LSTM','SEM']:\n",
    "  smdf_ = smdf[(smdf.model == mod)]\n",
    "  smdf_g = smdf_.groupby(['lr','alfa','lmda'])\n",
    "  for pstr_tup,smd in smdf_g:\n",
    "    acc_diff = smd.test_acc.diff().iloc[-1]*-100\n",
    "    ax = plt.gca()\n",
    "    smd.plot.bar('cond','test_acc',\n",
    "                 ax=ax,\n",
    "                 ylim=(0.5,1),\n",
    "                 title='acc_diff = %f'%acc_diff\n",
    "                )\n",
    "    ax.set_xticklabels(['B','I'])\n",
    "    pstr = \"%s__diff%f_lr%falfa%flmda%f.png\"%(mod,acc_diff,*pstr_tup)\n",
    "    plt.savefig('figures/gs2/test_acc/'+pstr)\n",
    "    plt.close('all')"
   ]
  },
  {
   "cell_type": "markdown",
   "metadata": {},
   "source": [
    "### analysis of test acc"
   ]
  },
  {
   "cell_type": "code",
   "execution_count": 39,
   "metadata": {},
   "outputs": [
    {
     "data": {
      "text/html": [
       "<div>\n",
       "<style scoped>\n",
       "    .dataframe tbody tr th:only-of-type {\n",
       "        vertical-align: middle;\n",
       "    }\n",
       "\n",
       "    .dataframe tbody tr th {\n",
       "        vertical-align: top;\n",
       "    }\n",
       "\n",
       "    .dataframe thead th {\n",
       "        text-align: right;\n",
       "    }\n",
       "</style>\n",
       "<table border=\"1\" class=\"dataframe\">\n",
       "  <thead>\n",
       "    <tr style=\"text-align: right;\">\n",
       "      <th></th>\n",
       "      <th>model</th>\n",
       "      <th>cond</th>\n",
       "      <th>lr</th>\n",
       "      <th>alfa</th>\n",
       "      <th>lmda</th>\n",
       "      <th>mse</th>\n",
       "      <th>carving</th>\n",
       "      <th>num_schemas</th>\n",
       "    </tr>\n",
       "  </thead>\n",
       "  <tbody>\n",
       "    <tr>\n",
       "      <th>0</th>\n",
       "      <td>SEM</td>\n",
       "      <td>blocked</td>\n",
       "      <td>0.01</td>\n",
       "      <td>0.01</td>\n",
       "      <td>0.01</td>\n",
       "      <td>0.001807</td>\n",
       "      <td>0.507469</td>\n",
       "      <td>12.372549</td>\n",
       "    </tr>\n",
       "    <tr>\n",
       "      <th>1</th>\n",
       "      <td>SEM</td>\n",
       "      <td>interleaved</td>\n",
       "      <td>0.01</td>\n",
       "      <td>0.01</td>\n",
       "      <td>0.01</td>\n",
       "      <td>0.065550</td>\n",
       "      <td>0.230927</td>\n",
       "      <td>10.156863</td>\n",
       "    </tr>\n",
       "    <tr>\n",
       "      <th>2</th>\n",
       "      <td>SEM</td>\n",
       "      <td>blocked</td>\n",
       "      <td>0.01</td>\n",
       "      <td>0.01</td>\n",
       "      <td>0.10</td>\n",
       "      <td>0.001807</td>\n",
       "      <td>0.507469</td>\n",
       "      <td>12.372549</td>\n",
       "    </tr>\n",
       "    <tr>\n",
       "      <th>3</th>\n",
       "      <td>SEM</td>\n",
       "      <td>interleaved</td>\n",
       "      <td>0.01</td>\n",
       "      <td>0.01</td>\n",
       "      <td>0.10</td>\n",
       "      <td>0.065550</td>\n",
       "      <td>0.230927</td>\n",
       "      <td>10.156863</td>\n",
       "    </tr>\n",
       "    <tr>\n",
       "      <th>4</th>\n",
       "      <td>SEM</td>\n",
       "      <td>blocked</td>\n",
       "      <td>0.01</td>\n",
       "      <td>0.01</td>\n",
       "      <td>1.00</td>\n",
       "      <td>0.001807</td>\n",
       "      <td>0.507469</td>\n",
       "      <td>12.372549</td>\n",
       "    </tr>\n",
       "    <tr>\n",
       "      <th>...</th>\n",
       "      <td>...</td>\n",
       "      <td>...</td>\n",
       "      <td>...</td>\n",
       "      <td>...</td>\n",
       "      <td>...</td>\n",
       "      <td>...</td>\n",
       "      <td>...</td>\n",
       "      <td>...</td>\n",
       "    </tr>\n",
       "    <tr>\n",
       "      <th>763</th>\n",
       "      <td>LSTM</td>\n",
       "      <td>interleaved</td>\n",
       "      <td>0.10</td>\n",
       "      <td>100000.00</td>\n",
       "      <td>1000.00</td>\n",
       "      <td>0.027529</td>\n",
       "      <td>0.000000</td>\n",
       "      <td>0.000000</td>\n",
       "    </tr>\n",
       "    <tr>\n",
       "      <th>764</th>\n",
       "      <td>LSTM</td>\n",
       "      <td>blocked</td>\n",
       "      <td>0.10</td>\n",
       "      <td>100000.00</td>\n",
       "      <td>10000.00</td>\n",
       "      <td>0.055161</td>\n",
       "      <td>0.000000</td>\n",
       "      <td>0.000000</td>\n",
       "    </tr>\n",
       "    <tr>\n",
       "      <th>765</th>\n",
       "      <td>LSTM</td>\n",
       "      <td>interleaved</td>\n",
       "      <td>0.10</td>\n",
       "      <td>100000.00</td>\n",
       "      <td>10000.00</td>\n",
       "      <td>0.027529</td>\n",
       "      <td>0.000000</td>\n",
       "      <td>0.000000</td>\n",
       "    </tr>\n",
       "    <tr>\n",
       "      <th>766</th>\n",
       "      <td>LSTM</td>\n",
       "      <td>blocked</td>\n",
       "      <td>0.10</td>\n",
       "      <td>100000.00</td>\n",
       "      <td>100000.00</td>\n",
       "      <td>0.055161</td>\n",
       "      <td>0.000000</td>\n",
       "      <td>0.000000</td>\n",
       "    </tr>\n",
       "    <tr>\n",
       "      <th>767</th>\n",
       "      <td>LSTM</td>\n",
       "      <td>interleaved</td>\n",
       "      <td>0.10</td>\n",
       "      <td>100000.00</td>\n",
       "      <td>100000.00</td>\n",
       "      <td>0.027529</td>\n",
       "      <td>0.000000</td>\n",
       "      <td>0.000000</td>\n",
       "    </tr>\n",
       "  </tbody>\n",
       "</table>\n",
       "<p>768 rows × 8 columns</p>\n",
       "</div>"
      ],
      "text/plain": [
       "    model         cond    lr       alfa       lmda       mse   carving  \\\n",
       "0     SEM      blocked  0.01       0.01       0.01  0.001807  0.507469   \n",
       "1     SEM  interleaved  0.01       0.01       0.01  0.065550  0.230927   \n",
       "2     SEM      blocked  0.01       0.01       0.10  0.001807  0.507469   \n",
       "3     SEM  interleaved  0.01       0.01       0.10  0.065550  0.230927   \n",
       "4     SEM      blocked  0.01       0.01       1.00  0.001807  0.507469   \n",
       "..    ...          ...   ...        ...        ...       ...       ...   \n",
       "763  LSTM  interleaved  0.10  100000.00    1000.00  0.027529  0.000000   \n",
       "764  LSTM      blocked  0.10  100000.00   10000.00  0.055161  0.000000   \n",
       "765  LSTM  interleaved  0.10  100000.00   10000.00  0.027529  0.000000   \n",
       "766  LSTM      blocked  0.10  100000.00  100000.00  0.055161  0.000000   \n",
       "767  LSTM  interleaved  0.10  100000.00  100000.00  0.027529  0.000000   \n",
       "\n",
       "     num_schemas  \n",
       "0      12.372549  \n",
       "1      10.156863  \n",
       "2      12.372549  \n",
       "3      10.156863  \n",
       "4      12.372549  \n",
       "..           ...  \n",
       "763     0.000000  \n",
       "764     0.000000  \n",
       "765     0.000000  \n",
       "766     0.000000  \n",
       "767     0.000000  \n",
       "\n",
       "[768 rows x 8 columns]"
      ]
     },
     "execution_count": 39,
     "metadata": {},
     "output_type": "execute_result"
    }
   ],
   "source": [
    "smdf_test = build_summary_df(gsdf[gsdf.phase == 'test'])\n",
    "smdf_test"
   ]
  },
  {
   "cell_type": "markdown",
   "metadata": {},
   "source": [
    "# scatter summary metric df\n"
   ]
  },
  {
   "cell_type": "code",
   "execution_count": 149,
   "metadata": {},
   "outputs": [
    {
     "data": {
      "text/plain": [
       "<Figure size 432x288 with 0 Axes>"
      ]
     },
     "metadata": {},
     "output_type": "display_data"
    },
    {
     "data": {
      "image/png": "[encoded data removed]",
      "text/plain": [
       "<Figure size 720x432 with 1 Axes>"
      ]
     },
     "metadata": {
      "needs_background": "light"
     },
     "output_type": "display_data"
    }
   ],
   "source": [
    "plt.figure()\n",
    "\n",
    "xvar='num_schemas'\n",
    "yvar='mse'\n",
    "\n",
    "colorL = ['b','r']\n",
    "f,ax = plt.subplots(1,1,figsize=(10,6))\n",
    "for i,c in enumerate(['blocked','interleaved']):\n",
    "  for j,l in enumerate([0.05,0.01]):\n",
    "    sdf = smdf[(smdf.cond==c)&(smdf.lr==l)]\n",
    "    ax.scatter(sdf.loc[:,xvar],sdf.loc[:,yvar],\n",
    "                c=colorL[i],marker=['x','o'][j],\n",
    "                label=\"%s%.3f\"%(c,l),\n",
    "               s=(np.log10(sdf.alfa)+2)**(2.5)\n",
    "               )\n",
    "    ax.set_title('size proportional to alfa')\n",
    "ax.set_xlabel(xvar)\n",
    "ax.set_ylabel(yvar)\n",
    "# ax.set_ylim(0,0.06)\n",
    "plt.legend(fontsize=10)\n",
    "# plt.savefig('figures/gs2/scatter3-%s-%s'%(xvar,yvar))"
   ]
  },
  {
   "cell_type": "markdown",
   "metadata": {},
   "source": [
    "# different way of making smdf"
   ]
  },
  {
   "cell_type": "code",
   "execution_count": 59,
   "metadata": {},
   "outputs": [],
   "source": [
    "\n",
    "from sklearn.metrics import adjusted_rand_score\n",
    "def build_summary_df2(gsdf):\n",
    "  \"\"\" metrics on model-param (mp) level\n",
    "  \"\"\"\n",
    "  accD = build_dataD(gsdf,metric='accuracy',verb=0)\n",
    "  schD = build_dataD(gsdf,metric='active_schema',verb=0)\n",
    "  curD = build_dataD(gsdf,metric='curriculum',verb=0)\n",
    "  assert accD.keys()==schD.keys()==curD.keys()\n",
    "\n",
    "  L = []\n",
    "  for param_str in accD.keys():\n",
    "    mod,lr,alfa,lmda = param_str.split('-')\n",
    "    if mod=='LSTM':continue\n",
    "    D = {\n",
    "        'model':mod,\n",
    "        'lr':float(lr),\n",
    "        'alfa':float(alfa),\n",
    "        'lmda':float(lmda)\n",
    "        }\n",
    "    for cond in ['blocked','interleaved']:\n",
    "      acc_ar = accD[param_str][cond]\n",
    "      sch_ar = schD[param_str][cond].astype(int)\n",
    "      cur_ar = curD[param_str][cond].astype(int)\n",
    "      ## mse\n",
    "      semM = acc_ar.mean(0)\n",
    "      humanM = hdf.loc[:,'%s mean'%cond]\n",
    "      mse = np.mean((semM-humanM)**2)\n",
    "      ## adjusted rand\n",
    "      # calculate AR for each seed\n",
    "      # mean over seeds\n",
    "      ar = np.mean([\n",
    "        adjusted_rand_score(cur_ar[i],sch_ar[i]\n",
    "          ) for i in range(len(cur_ar))]\n",
    "      )\n",
    "      # num schemas\n",
    "      num_schemas = np.mean(sch_ar.max(1))\n",
    "      ## collect\n",
    "      D.update({\n",
    "        'mse-%s'%cond:float(mse),\n",
    "        'carving-%s'%cond:float(ar),\n",
    "        'num_schemas-%s'%cond:num_schemas\n",
    "      })\n",
    "    L.append(D)\n",
    "  return pd.DataFrame(L)    \n"
   ]
  },
  {
   "cell_type": "code",
   "execution_count": 60,
   "metadata": {},
   "outputs": [],
   "source": [
    "smdf2 = build_summary_df2(gsdf)"
   ]
  },
  {
   "cell_type": "code",
   "execution_count": 130,
   "metadata": {},
   "outputs": [
    {
     "data": {
      "image/png": "[encoded data removed]",
      "text/plain": [
       "<Figure size 1080x432 with 2 Axes>"
      ]
     },
     "metadata": {
      "needs_background": "light"
     },
     "output_type": "display_data"
    }
   ],
   "source": [
    "metric= 'mse'\n",
    "f,axar = plt.subplots(1,2,figsize=(15,6))\n",
    "smdfplt = smdf2[smdf2.lr==0.05\n",
    "               ].loc[:,['alfa','lmda','%s-blocked'%metric,'%s-interleaved'%metric]]\n",
    "\n",
    "smdfplt.groupby(['lmda']).mean().drop('alfa',axis=1\n",
    "            ).plot.bar(stacked=True,ax=axar[0],title='lmda')\n",
    "smdfplt.groupby(['alfa']).mean().drop('lmda',axis=1\n",
    "            ).plot.bar(stacked=True,ax=axar[1],title='alfa')\n",
    "for ax in axar:\n",
    "  ax.legend(loc=4,fontsize=10)\n",
    "#   ax.set_ylim(.3,.4)\n",
    "#   ax.set_ylim(.6,.7)\n",
    "#   ax.set_ylim(.6,.7)\n",
    "axar[0].set_ylabel('%s'%metric)\n",
    "plt.savefig('figures/gs2/bar-%s-alfa-lmda'%metric)"
   ]
  },
  {
   "cell_type": "code",
   "execution_count": 326,
   "metadata": {},
   "outputs": [
    {
     "data": {
      "text/plain": [
       "<AxesSubplot:xlabel='carving-blocked', ylabel='mse-blocked'>"
      ]
     },
     "execution_count": 326,
     "metadata": {},
     "output_type": "execute_result"
    },
    {
     "data": {
      "image/png": "[encoded data removed]",
      "text/plain": [
       "<Figure size 432x288 with 1 Axes>"
      ]
     },
     "metadata": {
      "needs_background": "light"
     },
     "output_type": "display_data"
    }
   ],
   "source": [
    "sdfplt = smdf2[smdf2.loc[:,'mse-blocked']<.1]\n",
    "sdfplt.plot.scatter('carving-blocked','mse-blocked',\n",
    "#                    c=np.log10(smdf2.alfa)\n",
    "                   c=sdfplt.loc[:,'num_schemas-interleaved']\n",
    "                  )\n",
    "# smdf2.plot.scatter?\n",
    "\n"
   ]
  },
  {
   "cell_type": "markdown",
   "metadata": {},
   "source": [
    "# accuracy plots "
   ]
  },
  {
   "cell_type": "code",
   "execution_count": null,
   "metadata": {},
   "outputs": [],
   "source": [
    "def plt_acc_(ax,acc_arr,tag=None):\n",
    "  Nseeds,_ = acc_arr.shape\n",
    "  for acc_seed in acc_arr:\n",
    "    ax.plot(acc_seed,lw=.05,c='k')\n",
    "  M = acc_arr.mean(0)\n",
    "  S = acc_arr.std(0)/np.sqrt(Nseeds)\n",
    "  ax.fill_between(range(200),M-S,M+S,alpha=.5,color='b')\n",
    "  ax.plot(M,lw=3,c='b')\n",
    "  ax.set_ylim(0.2,1)\n",
    "  return None\n",
    "\n",
    "def plt_acc(cond_dict,mse_dict,title):\n",
    "  f,ax = plt.subplots(2,1,figsize=(8,4),sharex=True)\n",
    "  for idx,(cond,arr) in enumerate(cond_dict.items()):\n",
    "    plt_acc_(ax[idx],arr)\n",
    "    ax[idx].plot(hdf.loc[:,\"%s mean\"%cond],color='red',lw=3)\n",
    "    ax[idx].set_title(\"%s mse%f\"%(title,mse_dict[cond]))\n",
    "  total_mse = np.sum([i for i in mse_dict.values()])\n",
    "  plt.savefig('figures/%s/acc/mse%.4f-acc-%s.png'%(gsname,total_mse,title))\n",
    "  plt.close('all')\n",
    "  \n",
    "def calc_mse(acc_cond_dict):\n",
    "  \"\"\" depr \"\"\"\n",
    "  D = {}\n",
    "  for cond,acc_arr in acc_cond_dict.items():\n",
    "    semM = acc_arr.mean(0)\n",
    "    humanM = hdf.loc[:,'%s mean'%cond]\n",
    "    D[cond] = np.mean((semM-humanM)**2)\n",
    "  return D"
   ]
  },
  {
   "cell_type": "code",
   "execution_count": null,
   "metadata": {
    "scrolled": true
   },
   "outputs": [],
   "source": [
    "accD = build_dataD(gsdf,metric='accuracy',verb=False)\n",
    "print('num model conditions',len(accD))\n",
    "L = []\n",
    "for model_param,cond_dict in accD.items():\n",
    "  mse = calc_mse(cond_dict)\n",
    "  title = model_param\n",
    "  mse = calc_mse(cond_dict)\n",
    "  print(model_param,mse)\n",
    "  L.append({'model':model_param,'mse':mse})\n",
    "#   plt_acc(cond_dict,mse,title)"
   ]
  },
  {
   "cell_type": "markdown",
   "metadata": {},
   "source": [
    "# param space"
   ]
  },
  {
   "cell_type": "code",
   "execution_count": null,
   "metadata": {},
   "outputs": [],
   "source": []
  },
  {
   "cell_type": "markdown",
   "metadata": {},
   "source": [
    "### plot param heatmap\n",
    "- update with summary metric dataframe"
   ]
  },
  {
   "cell_type": "code",
   "execution_count": null,
   "metadata": {},
   "outputs": [],
   "source": [
    "#### outdated\n",
    "# make_mse_df(accD)\n",
    "# msedf_ = make_mse_df(accD)\n",
    "#### use\n",
    "# build_summary_df(gsdf)\n"
   ]
  },
  {
   "cell_type": "code",
   "execution_count": null,
   "metadata": {
    "scrolled": true
   },
   "outputs": [],
   "source": [
    "f,axar = plt.subplots(3,2,figsize=(25,20),sharex=True,sharey=True)\n",
    "\n",
    "for c_i,c in enumerate(['blocked','interleaved']):\n",
    "  msedf = msedf_[(msedf_.model=='SEM')&(msedf_.cond==c)]\n",
    "  for lr_i,lr in enumerate(lrL):\n",
    "    \n",
    "    ## MAKE ARR\n",
    "    arr = -np.ones([len(alfaL),len(lmdaL)])\n",
    "    for a_i,alfa in enumerate(alfaL):\n",
    "      for lm_i,lmda in enumerate(lmdaL):\n",
    "        lr_bool = (msedf.lr == lr)\n",
    "        a_bool = (msedf.alfa == alfa)\n",
    "        lm_bool = (msedf.lmda == lmda)\n",
    "        m = msedf[lr_bool&a_bool&lm_bool].mse.values\n",
    "        if len(m):\n",
    "          arr[a_i,lm_i]=m\n",
    "\n",
    "    ## PLOT\n",
    "    ax = axar[lr_i,c_i]\n",
    "    ax.set_title('%s lr=%.2f'%(c,lr))\n",
    "    sns.heatmap(arr,ax=ax,annot=arr.round(2),vmax=0.05)\n",
    "  ax.set_xlabel('alfaL')\n",
    "  ax.set_ylabel('lmdaL')\n",
    "\n",
    "plt.savefig('figures/%s/mseheat'%gsname)"
   ]
  },
  {
   "cell_type": "code",
   "execution_count": null,
   "metadata": {},
   "outputs": [],
   "source": [
    "assert False"
   ]
  },
  {
   "cell_type": "markdown",
   "metadata": {},
   "source": [
    "# schema inference analysis\n"
   ]
  },
  {
   "cell_type": "code",
   "execution_count": null,
   "metadata": {},
   "outputs": [],
   "source": [
    "sdf = build_summary_df(gsdf)\n",
    "sdf.sort_values('carving',ascending=0)"
   ]
  },
  {
   "cell_type": "code",
   "execution_count": null,
   "metadata": {},
   "outputs": [],
   "source": [
    "currD = build_dataD(gsdf,metric='curriculum',verb=False)\n",
    "schD = build_dataD(gsdf,metric='active_schema',verb=False)\n",
    "k_ = list(schD.keys())[0]"
   ]
  },
  {
   "cell_type": "code",
   "execution_count": null,
   "metadata": {},
   "outputs": [],
   "source": [
    "cond = 'blocked'\n",
    "curr_arr = curr_D[k_][cond]\n",
    "actsch_arr = actsch_D[k_][cond]\n",
    "\n",
    "actsch_arr\n",
    "curr_arr.shape"
   ]
  }
 ],
 "metadata": {
  "kernelspec": {
   "display_name": "Python 3",
   "language": "python",
   "name": "python3"
  },
  "language_info": {
   "codemirror_mode": {
    "name": "ipython",
    "version": 3
   },
   "file_extension": ".py",
   "mimetype": "text/x-python",
   "name": "python",
   "nbconvert_exporter": "python",
   "pygments_lexer": "ipython3",
   "version": "3.7.9"
  }
 },
 "nbformat": 4,
 "nbformat_minor": 4
}
