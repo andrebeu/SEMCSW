{
 "cells": [
  {
   "cell_type": "code",
   "execution_count": 1,
   "metadata": {},
   "outputs": [],
   "source": [
    "%load_ext autoreload\n",
    "%reload_ext autoreload\n",
    "%autoreload 2"
   ]
  },
  {
   "cell_type": "code",
   "execution_count": 2,
   "metadata": {},
   "outputs": [],
   "source": [
    "import sys\n",
    "import os\n",
    "import itertools\n",
    "import numpy as np\n",
    "import torch as tr\n",
    "import pandas as pd\n",
    "from matplotlib import pyplot as plt\n",
    "\n",
    "from CSWSEM import *\n",
    "\n",
    "gs_name = 'pdim1'"
   ]
  },
  {
   "cell_type": "code",
   "execution_count": 3,
   "metadata": {},
   "outputs": [],
   "source": [
    "DEBUG=1\n",
    "if DEBUG:\n",
    "  NTRAIN=40\n",
    "  NTEST=2\n",
    "  CONDL=['single','interleaved']\n",
    "else:\n",
    "  NTRAIN=160\n",
    "  NTEST=40\n",
    "  CONDL=['blocked','interleaved']\n"
   ]
  },
  {
   "cell_type": "code",
   "execution_count": 4,
   "metadata": {},
   "outputs": [],
   "source": [
    "def run_batch_exp(num_seeds,sem_kwargs,exp_kwargs):\n",
    "  \"\"\" wrap wround seeds for single paramconfig\n",
    "  \"\"\"\n",
    "  batch_dataL = []\n",
    "  for seed in range(num_seeds):\n",
    "    print('seed',seed)\n",
    "    sem_kwargs['seed'] = seed\n",
    "    # run\n",
    "    sem = SEM(**sem_kwargs)\n",
    "    task = CSWTask()\n",
    "    exp,curr = task.generate_experiment(**exp_kwargs)\n",
    "    sem_data = sem.forward_exp(exp,curr)\n",
    "    # record\n",
    "    sem.data.record_exp('condition',exp_kwargs['condition'])\n",
    "    # collect\n",
    "    sem_data_df = pd.DataFrame(sem_data,dtype='float64')\n",
    "    batch_dataL.append(sem_data_df)\n",
    "  return pd.concat(batch_dataL)\n",
    "\n",
    "def run_BIexp(num_seeds,sem_kwargs,ntrain=NTRAIN,ntest=NTEST):\n",
    "  \"\"\" wrap around task conditions\n",
    "  \"\"\"\n",
    "  exp_dataL = []\n",
    "  exp_kwargs = {'n_train':ntrain,'n_test':ntest}\n",
    "  for cond in CONDL:\n",
    "    exp_kwargs['condition'] = cond\n",
    "    batch_data = run_batch_exp(num_seeds,sem_kwargs,exp_kwargs)\n",
    "    exp_dataL.append(batch_data)\n",
    "  return pd.concat(exp_dataL)"
   ]
  },
  {
   "cell_type": "code",
   "execution_count": 5,
   "metadata": {},
   "outputs": [],
   "source": [
    "sem_kwargs={\n",
    "  'nosplit':0,\n",
    "  'alfa':10000000,\n",
    "  'lmda':0.1,\n",
    "  'seed':np.random.randint(99),\n",
    "  'stsize':15,\n",
    "  'learn_rate':0.05\n",
    "}"
   ]
  },
  {
   "cell_type": "code",
   "execution_count": null,
   "metadata": {
    "scrolled": true
   },
   "outputs": [
    {
     "name": "stdout",
     "output_type": "stream",
     "text": [
      "12 0.1\n",
      "seed 0\n",
      "seed 1\n",
      "seed 2\n",
      "seed 3\n",
      "seed 4\n",
      "seed 5\n",
      "seed 6\n",
      "seed 7\n",
      "seed 8\n",
      "seed 9\n",
      "seed 0\n",
      "seed 1\n",
      "seed 2\n",
      "seed 3\n",
      "seed 4\n",
      "seed 5\n",
      "seed 6\n",
      "seed 7\n",
      "seed 8\n",
      "seed 9\n",
      "12 0.05\n",
      "seed 0\n",
      "seed 1\n",
      "seed 2\n",
      "seed 3\n",
      "seed 4\n",
      "seed 5\n",
      "seed 6\n",
      "seed 7\n",
      "seed 8\n",
      "seed 9\n",
      "seed 0\n",
      "seed 1\n",
      "seed 2\n",
      "seed 3\n",
      "seed 4\n",
      "seed 5\n",
      "seed 6\n",
      "seed 7\n",
      "seed 8\n",
      "seed 9\n",
      "12 0.01\n",
      "seed 0\n"
     ]
    }
   ],
   "source": [
    "## GRIDSEARCH\n",
    "\n",
    "# n1 = 'alfa'\n",
    "# L1 = [1,100,100000]\n",
    "# n2 = 'lmda'\n",
    "# L2 = [.1,.001,.0001]\n",
    "n1 = 'stsize'\n",
    "L1 = [12,15,17]\n",
    "n2 = 'learn_rate'\n",
    "L2 = [0.1,0.05,0.01]\n",
    "num_seeds = 10\n",
    "\n",
    "gsdataL = []\n",
    "for idx,(v1,v2) in enumerate(itertools.product(L1,L2)):\n",
    "  print(v1,v2)\n",
    "  sem_kwargs[n1] = v1\n",
    "  sem_kwargs[n2] = v2\n",
    "  exp_data = run_BIexp(num_seeds,sem_kwargs)\n",
    "  gsdataL.append(exp_data)\n",
    "    \n",
    "gsdata = pd.concat(gsdataL)\n",
    "gsdata = gsdata.groupby(['condition','trial',n1,n2]).mean().reset_index()"
   ]
  },
  {
   "cell_type": "code",
   "execution_count": null,
   "metadata": {},
   "outputs": [],
   "source": [
    "## PLT GRIDSEARCH\n",
    "f,axar = plt.subplots(3,3,figsize=(20,10),sharey=True,sharex=True);axar=axar.reshape(-1)\n",
    "\n",
    "for idx,(v1_,v2_) in enumerate(itertools.product(L1,L2)):\n",
    "  ax = axar[idx]\n",
    "  for c in CONDL:\n",
    "    cdata = gsdata[(\n",
    "      gsdata.condition==c)&(\n",
    "      gsdata.loc[:,n1]==v1_)&(\n",
    "      gsdata.loc[:,n2]==v2_)\n",
    "    ]\n",
    "    acc = 1-cdata.loss\n",
    "    ax.plot(np.arange(len(acc)),acc)\n",
    "  ax.set_title('%s%f%s%f'%(n1,v1_,n2,v2_))\n",
    "  ax.set_ylim(0.2,1)\n",
    "  ax.axhline(0.5,c='k',lw=.3)\n",
    "plt.savefig('figures/gs-%s&%s'%(n1,n2))"
   ]
  }
 ],
 "metadata": {
  "kernelspec": {
   "display_name": "Python 3",
   "language": "python",
   "name": "python3"
  },
  "language_info": {
   "codemirror_mode": {
    "name": "ipython",
    "version": 3
   },
   "file_extension": ".py",
   "mimetype": "text/x-python",
   "name": "python",
   "nbconvert_exporter": "python",
   "pygments_lexer": "ipython3",
   "version": "3.7.9"
  }
 },
 "nbformat": 4,
 "nbformat_minor": 4
}
