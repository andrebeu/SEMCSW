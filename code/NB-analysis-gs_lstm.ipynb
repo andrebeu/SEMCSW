{
 "cells": [
  {
   "cell_type": "code",
   "execution_count": 1,
   "metadata": {},
   "outputs": [],
   "source": [
    "import sys\n",
    "\n",
    "import numpy as np\n",
    "import matplotlib.pyplot as plt\n",
    "import tensorflow as tf\n",
    "import seaborn as sns\n",
    "from tqdm import tqdm\n",
    "from sklearn import metrics\n",
    "import pandas as pd\n",
    "\n",
    "from sklearn.metrics import adjusted_rand_score\n",
    "from sklearn.preprocessing import normalize\n",
    "from sklearn.linear_model import LogisticRegression\n",
    "from scipy.special import logsumexp\n",
    "from scipy.stats import norm\n",
    "from glob import glob\n",
    "import pandas as pd\n",
    "from glob import glob as glob"
   ]
  },
  {
   "cell_type": "code",
   "execution_count": 2,
   "metadata": {},
   "outputs": [],
   "source": [
    "def parse_results_file(tresults_fpath):\n",
    "  D = {}\n",
    "  fsplit = tresults_fpath.split('/')[-1].split('_')\n",
    "  D['seed'] = int(fsplit[-1].split('.')[0])\n",
    "  D['nepochs'] = int(fsplit[-6])\n",
    "  D['lr'] = float(fsplit[-8])\n",
    "  return  D\n",
    "\n",
    "def read_gsdf(gsname):\n",
    "  tresults_fL = glob('gsdata/'+gsname+\"/trial*\")\n",
    "  L = []\n",
    "  for fpath in tresults_fL:\n",
    "    paramD = parse_results_file(fpath)\n",
    "    seed_df = pd.read_csv(fpath)\n",
    "    for k,v in paramD.items():\n",
    "      seed_df[k] = v\n",
    "    L.append(seed_df)\n",
    "  gsdf = pd.concat(L)\n",
    "  return gsdf"
   ]
  },
  {
   "cell_type": "code",
   "execution_count": 3,
   "metadata": {},
   "outputs": [],
   "source": [
    "\n",
    "gs_name = 'lstm2_aw0'\n",
    "gsdf = read_gsdf(gs_name)\n"
   ]
  },
  {
   "cell_type": "code",
   "execution_count": 9,
   "metadata": {
    "scrolled": true
   },
   "outputs": [
    {
     "name": "stdout",
     "output_type": "stream",
     "text": [
      "0.001 1 (200,)\n",
      "0.001 2 (200,)\n",
      "0.001 4 (200,)\n",
      "0.001 8 (200,)\n",
      "0.001 16 (200,)\n",
      "0.001 32 (200,)\n",
      "0.001 64 (200,)\n",
      "0.005 1 (200,)\n",
      "0.005 2 (200,)\n",
      "0.005 4 (200,)\n",
      "0.005 8 (200,)\n",
      "0.005 16 (200,)\n",
      "0.005 32 (200,)\n",
      "0.005 64 (200,)\n",
      "0.01 1 (200,)\n",
      "0.01 2 (200,)\n",
      "0.01 4 (200,)\n",
      "0.01 8 (200,)\n",
      "0.01 16 (200,)\n",
      "0.01 32 (200,)\n"
     ]
    }
   ],
   "source": [
    "acc_df = gsdf.groupby(['lr','nepochs','t']).mean().accuracy.unstack(-1)\n",
    "acc_df\n",
    "for (lr,nepchs),acc in acc_df.T.iteritems():\n",
    "  print(lr,nepchs,acc.shape)\n",
    "  plt.plot(acc)\n",
    "  plt.ylim(.2,1.01)\n",
    "  plt.axhline(1,c='g',lw=.5)\n",
    "  plt.axhline(.5,c='r',lw=.5)\n",
    "  \n",
    "  plt.savefig('figures/gs-%s/acc-%f_%i.png'%(gs_name,lr,nepchs))\n",
    "  plt.close('all')\n"
   ]
  },
  {
   "cell_type": "code",
   "execution_count": 5,
   "metadata": {},
   "outputs": [
    {
     "ename": "AssertionError",
     "evalue": "",
     "output_type": "error",
     "traceback": [
      "\u001b[0;31m---------------------------------------------------------------------------\u001b[0m",
      "\u001b[0;31mAssertionError\u001b[0m                            Traceback (most recent call last)",
      "\u001b[0;32m<ipython-input-5-a871fdc9ebee>\u001b[0m in \u001b[0;36m<module>\u001b[0;34m\u001b[0m\n\u001b[0;32m----> 1\u001b[0;31m \u001b[0;32massert\u001b[0m \u001b[0;32mFalse\u001b[0m\u001b[0;34m\u001b[0m\u001b[0;34m\u001b[0m\u001b[0m\n\u001b[0m",
      "\u001b[0;31mAssertionError\u001b[0m: "
     ]
    }
   ],
   "source": [
    "assert False"
   ]
  }
 ],
 "metadata": {
  "colab": {
   "collapsed_sections": [
    "Fg0K8FUow9Dy",
    "J0shpNw-wRT2"
   ],
   "name": "AndreTask; 2/7/20.ipynb",
   "provenance": [],
   "toc_visible": true
  },
  "kernelspec": {
   "display_name": "Python 3",
   "language": "python",
   "name": "python3"
  },
  "language_info": {
   "codemirror_mode": {
    "name": "ipython",
    "version": 3
   },
   "file_extension": ".py",
   "mimetype": "text/x-python",
   "name": "python",
   "nbconvert_exporter": "python",
   "pygments_lexer": "ipython3",
   "version": "3.7.9"
  }
 },
 "nbformat": 4,
 "nbformat_minor": 1
}
