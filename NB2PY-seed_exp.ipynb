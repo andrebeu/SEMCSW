{
 "cells": [
  {
   "cell_type": "markdown",
   "metadata": {
    "colab_type": "text",
    "id": "NQ9KSajiwUpk"
   },
   "source": [
    "This script runs one param_set. Outputs results{}.csv and trialxtrial{}.csv"
   ]
  },
  {
   "cell_type": "code",
   "execution_count": 1,
   "metadata": {},
   "outputs": [],
   "source": [
    "import sys\n",
    "import numpy as np\n",
    "import matplotlib.pyplot as plt\n",
    "import tensorflow as tf\n",
    "import seaborn as sns\n",
    "from tqdm import tqdm\n",
    "from sklearn import metrics\n",
    "import pandas as pd\n",
    "\n",
    "from sklearn.metrics import adjusted_rand_score\n",
    "from sklearn.preprocessing import normalize\n",
    "from sklearn.linear_model import LogisticRegression\n",
    "from scipy.special import logsumexp\n",
    "from scipy.stats import norm\n",
    "from glob import glob"
   ]
  },
  {
   "cell_type": "code",
   "execution_count": 2,
   "metadata": {},
   "outputs": [
    {
     "name": "stdout",
     "output_type": "stream",
     "text": [
      "TensorFlow Version: 2.3.1\n"
     ]
    }
   ],
   "source": [
    "from CSWSEM import generate_exp, seed_exp\n",
    "from vanilla_lstm import VanillaLSTM\n",
    "from sem.event_models import NonLinearEvent"
   ]
  },
  {
   "cell_type": "markdown",
   "metadata": {},
   "source": [
    "### gridsearch params "
   ]
  },
  {
   "cell_type": "code",
   "execution_count": 3,
   "metadata": {},
   "outputs": [],
   "source": [
    "# parameter search over lr, n_epochs, alpha, lambda\n",
    "model_type        = str('SEM')\n",
    "lr                = float(0.005)\n",
    "n_epochs          = int(16)    \n",
    "log_alpha         = float(0.0)  # sCRP alpha is set in log scale\n",
    "log_lambda        = float(0.0)  # sCRP lambda is set in log scale"
   ]
  },
  {
   "cell_type": "code",
   "execution_count": 4,
   "metadata": {},
   "outputs": [],
   "source": [
    "seed = int(99)\n",
    "condition = 'single'\n",
    "n_train = 40\n",
    "n_test = 10"
   ]
  },
  {
   "cell_type": "markdown",
   "metadata": {},
   "source": [
    "### SEM configuration"
   ]
  },
  {
   "cell_type": "code",
   "execution_count": 5,
   "metadata": {},
   "outputs": [],
   "source": [
    "optimizer_kwargs = dict(\n",
    "    lr=lr, \n",
    "    beta_1=0.9, \n",
    "    beta_2=0.999, \n",
    "    epsilon=1e-5, \n",
    "    amsgrad=False\n",
    ") \n",
    "\n",
    "f_opts=dict(\n",
    "  batch_size=25, \n",
    "  batch_update=False, \n",
    "  dropout=0.0,\n",
    "  l2_regularization=0.0, \n",
    "  n_epochs=n_epochs,\n",
    "  optimizer_kwargs=optimizer_kwargs\n",
    ")\n",
    "\n",
    "sem_kwargs = dict(\n",
    "  lmda=np.exp(log_lambda), \n",
    "  alfa=np.exp(log_alpha), \n",
    "  f_opts=f_opts, \n",
    "  f_class=VanillaLSTM\n",
    ")\n"
   ]
  },
  {
   "cell_type": "markdown",
   "metadata": {},
   "source": [
    "# Run model\n",
    "\n",
    "main fun call"
   ]
  },
  {
   "cell_type": "code",
   "execution_count": 6,
   "metadata": {},
   "outputs": [
    {
     "name": "stdout",
     "output_type": "stream",
     "text": [
      "seed 99 condition single\n"
     ]
    }
   ],
   "source": [
    "\"\"\" \n",
    "main fun call\n",
    "\"\"\"\n",
    "\n",
    "results, trialXtrial, _ = seed_exp( \n",
    "              sem_kwargs, model_type=model_type, \n",
    "              n_train=n_train, n_test=n_test,\n",
    "              condition=condition,seed=seed,\n",
    ")"
   ]
  },
  {
   "cell_type": "code",
   "execution_count": 7,
   "metadata": {},
   "outputs": [],
   "source": [
    "# convert from JSON file format (dict) to pandas df\n",
    "results = pd.DataFrame(results)\n",
    "trialXtrial = pd.DataFrame(trialXtrial)"
   ]
  },
  {
   "cell_type": "markdown",
   "metadata": {},
   "source": [
    "# plot"
   ]
  },
  {
   "cell_type": "code",
   "execution_count": 8,
   "metadata": {},
   "outputs": [
    {
     "data": {
      "text/plain": [
       "[<matplotlib.lines.Line2D at 0x138ff3510>]"
      ]
     },
     "execution_count": 8,
     "metadata": {},
     "output_type": "execute_result"
    },
    {
     "data": {
      "image/png": "[encoded data removed]",
      "text/plain": [
       "<Figure size 432x288 with 1 Axes>"
      ]
     },
     "metadata": {
      "needs_background": "light"
     },
     "output_type": "display_data"
    }
   ],
   "source": [
    "plt.plot(trialXtrial.accuracy)"
   ]
  },
  {
   "cell_type": "markdown",
   "metadata": {
    "colab_type": "text",
    "id": "OAOkKQ5O8j7f"
   },
   "source": [
    "# save\n"
   ]
  }
 ],
 "metadata": {
  "colab": {
   "collapsed_sections": [
    "Fg0K8FUow9Dy",
    "J0shpNw-wRT2"
   ],
   "name": "AndreTask; 2/7/20.ipynb",
   "provenance": [],
   "toc_visible": true
  },
  "kernelspec": {
   "display_name": "Python 3",
   "language": "python",
   "name": "python3"
  },
  "language_info": {
   "codemirror_mode": {
    "name": "ipython",
    "version": 3
   },
   "file_extension": ".py",
   "mimetype": "text/x-python",
   "name": "python",
   "nbconvert_exporter": "python",
   "pygments_lexer": "ipython3",
   "version": "3.7.9"
  }
 },
 "nbformat": 4,
 "nbformat_minor": 1
}
